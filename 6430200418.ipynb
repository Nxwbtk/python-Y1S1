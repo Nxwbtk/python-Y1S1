{
  "nbformat": 4,
  "nbformat_minor": 0,
  "metadata": {
    "colab": {
      "name": "6430200418",
      "provenance": []
    },
    "kernelspec": {
      "name": "python3",
      "display_name": "Python 3"
    },
    "language_info": {
      "name": "python"
    }
  },
  "cells": [
    {
      "cell_type": "code",
      "metadata": {
        "id": "Ojws6YJDI1bz"
      },
      "source": [
        "คำนวณเกรด"
      ],
      "execution_count": null,
      "outputs": []
    },
    {
      "cell_type": "markdown",
      "metadata": {
        "id": "YtsocnB8I4lr"
      },
      "source": [
        ""
      ]
    },
    {
      "cell_type": "code",
      "metadata": {
        "colab": {
          "base_uri": "https://localhost:8080/"
        },
        "id": "ZvcVf9fQI-x8",
        "outputId": "f7acf2e2-bd78-4ae0-ab5f-49ae64b1c7fe"
      },
      "source": [
        "i = 1\n",
        "count_a = 0\n",
        "count_b = 0\n",
        "count_c = 0\n",
        "count_d = 0\n",
        "count_f = 0\n",
        "while True:\n",
        "    Score = int(input(\"Enter score #%d : \"%i))\n",
        "    i+=1\n",
        "    if Score<=100 and Score>85 :\n",
        "        print(\"Grade : A\")\n",
        "        count_a+=1\n",
        "    elif Score<=85 and Score>75 :\n",
        "        print(\"Grade B\")\n",
        "        count_b+=1\n",
        "    elif Score<=75 and Score>55 :\n",
        "        print(\"Grade C\")\n",
        "        count_c+=1\n",
        "    elif Score<=55 and Score>=45 :\n",
        "        print(\"Grade D\")\n",
        "        count_d+=1\n",
        "    elif Score>=0 and Score<45 :\n",
        "        print(\"Grade F\")\n",
        "        count_f+=1\n",
        "    else :\n",
        "        print(\"Invalid Score!!!\")\n",
        "        print(\"*************************\")\n",
        "        break\n",
        "    \n",
        "print(\"Count of A : \",count_a)\n",
        "print(\"Count of B : \",count_b)\n",
        "print(\"Count of C : \",count_c)\n",
        "print(\"Count of D : \",count_d)\n",
        "print(\"Count of F : \",count_f)"
      ],
      "execution_count": 2,
      "outputs": [
        {
          "output_type": "stream",
          "text": [
            "Enter score #1 : 85\n",
            "Grade B\n",
            "Enter score #2 : 87\n",
            "Grade : A\n",
            "Enter score #3 : 64\n",
            "Grade C\n",
            "Enter score #4 : 54\n",
            "Grade D\n",
            "Enter score #5 : 44\n",
            "Grade F\n",
            "Enter score #6 : -1\n",
            "Invalid Score!!!\n",
            "*************************\n",
            "Count of A :  1\n",
            "Count of B :  1\n",
            "Count of C :  1\n",
            "Count of D :  1\n",
            "Count of F :  1\n"
          ],
          "name": "stdout"
        }
      ]
    },
    {
      "cell_type": "markdown",
      "metadata": {
        "id": "HccDnShxON8q"
      },
      "source": [
        "คำนวณส่วนลด"
      ]
    },
    {
      "cell_type": "code",
      "metadata": {
        "id": "ZohdgoRqOQ4q"
      },
      "source": [
        "sum_good = 0\n",
        "sum_p = 0\n",
        "discount = 0\n",
        "Net = 0\n",
        "while True:\n",
        "    Goods = int(input(\"Enter No. of Goods : \"))\n",
        "    sum_good+=Goods\n",
        "    if Goods<=0 :\n",
        "        print(\"***********************************\")\n",
        "        break\n",
        "    Price = int(input(\"Enter Goods Price : \"))\n",
        "    sum_p+=Price\n",
        "    if Price<5000 :\n",
        "        discount = 0\n",
        "    elif Price>=5000 and Price<=10000:\n",
        "        discount = Price*0.1\n",
        "    elif Price>10000 :\n",
        "        discount = Price*0.2\n",
        "    Net = Price-discount\n",
        "print(\"Total Amount : \",sum_good)\n",
        "print(\"Discount : \",discount)\n",
        "print(\"Net Amount : \",Net)\n",
        "print(\"***********************************\")"
      ],
      "execution_count": null,
      "outputs": []
    },
    {
      "cell_type": "markdown",
      "metadata": {
        "id": "ikE_a8FSOTH8"
      },
      "source": [
        "คำนวณค่าขนส่ง"
      ]
    },
    {
      "cell_type": "code",
      "metadata": {
        "colab": {
          "base_uri": "https://localhost:8080/"
        },
        "id": "9pbLEeyIRNQL",
        "outputId": "32bd1465-37f8-4a16-cf8d-fa4381d3e520"
      },
      "source": [
        "Distance = int(input(\"Enter Distance(km.) : \"))\n",
        "Weight = int(input(\"Enter Weight(kg.) : \"))\n",
        "tran = input(\"Transport Type : \")\n",
        "fee = 0\n",
        "if tran.lower()==\"regular\":\n",
        "    fee_dis = Distance*0.5\n",
        "    price = (Weight*0.5)+fee_dis\n",
        "elif tran.lower()==\"express\":\n",
        "    fee_dis = Distance*1\n",
        "    price = (Weight*1)+fee_dis\n",
        "print(\"Transport Fee : \",price,\"baht\")"
      ],
      "execution_count": 3,
      "outputs": [
        {
          "output_type": "stream",
          "text": [
            "Enter Distance(km.) : 100\n",
            "Enter Weight(kg.) : 20\n",
            "Transport Type : regular\n",
            "Transport Fee :  60.0 baht\n"
          ],
          "name": "stdout"
        }
      ]
    },
    {
      "cell_type": "markdown",
      "metadata": {
        "id": "Mv7J7qcscCU6"
      },
      "source": [
        "คำนวณค่าเช่ารถบัสและรถตู้"
      ]
    },
    {
      "cell_type": "code",
      "metadata": {
        "id": "dHhOT072cG7o"
      },
      "source": [
        "Con = True\n",
        "Bus = 0\n",
        "Van = 0\n",
        "while Con:\n",
        "    Passengers = int(input(\"Enter Passengers : \"))\n",
        "    Bus = (Passengers//40)\n",
        "    Bus_L = Passengers%40\n",
        "    Van = (Bus_L//10)\n",
        "    P_B = Bus*8000\n",
        "    P_V = Van*2500\n",
        "    print(Bus,\" Bus = \",P_B,\" baht\")\n",
        "    if Van!=0 :\n",
        "        print(Van,\" Van = \",P_V,\" baht\")\n",
        "    Con = input(\"Continue : \")\n",
        "    if Con.lower()==\"no\":\n",
        "        Con = False\n",
        "    elif Con.lower()!=\"yes\" :\n",
        "        print(\"Wrong try again!\")\n",
        "        continue"
      ],
      "execution_count": null,
      "outputs": []
    }
  ]
}