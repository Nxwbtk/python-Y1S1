{
  "nbformat": 4,
  "nbformat_minor": 0,
  "metadata": {
    "colab": {
      "name": "ยินดีต้อนรับสู่ Colaboratory",
      "provenance": [],
      "collapsed_sections": [],
      "toc_visible": true
    },
    "kernelspec": {
      "display_name": "Python 3",
      "name": "python3"
    }
  },
  "cells": [
    {
      "cell_type": "markdown",
      "metadata": {
        "id": "DcfFUSfhUaXA"
      },
      "source": [
        "-จงเขียนโปรเเกรมคำนวณยอดค่าเช่ารถบัสเเละรถตู้เพื่อจัดทัศนศึกษาโดยตัวเเปรรับค่าคีย์บอร์ด2ตัวเเปร"
      ]
    },
    {
      "cell_type": "code",
      "metadata": {
        "id": "ytU-8OTtVRoF"
      },
      "source": [
        "try:\n",
        "  ask = True\n",
        "  while ask:\n",
        "    passenger = int (input(\"Enter Passenger : \"))\n",
        "    bus = passenger / 40\n",
        "    van = (passenger %40) / 10\n",
        "    busprice = bus * 8000\n",
        "    vanprice = van * 2500\n",
        "    print(bus,\" bus = \",busprice,\" baht\")\n",
        "    print(van,\" van = \",vanprice,\" baht\")\n",
        "    Con = input(\"Continue : \")\n",
        "    if Con == \"No\" or Con == \"No\":\n",
        "      ask = False\n",
        "except ValueError:\n",
        "    print(\"กรุณาใส่ตัวเลขเท่านั้น\")"
      ],
      "execution_count": null,
      "outputs": []
    },
    {
      "cell_type": "markdown",
      "metadata": {
        "id": "o34z2mGYKC3O"
      },
      "source": [
        "-จงเขียนโปรเเกรมรับคะเเนนของนิสิตที่มีค่าระหว่าง 0-100 จากคีย์บอร์ดจนคะเเนนติดลบเเล้วเเสดงผลว่าได้เกรดอะไร"
      ]
    },
    {
      "cell_type": "code",
      "metadata": {
        "id": "amOZNdFMNXq9"
      },
      "source": [
        "i = 1\n",
        "Grade_a = 0\n",
        "Grade_b = 0\n",
        "Grade_c = 0\n",
        "Grade_d = 0\n",
        "Grade_f = 0\n",
        "while True:\n",
        "    Score = int(input(\"Enter score #%d : \"%i))\n",
        "    i+=1\n",
        "    if Score<=100 and Score>85 :\n",
        "        print(\"Grade : A\")\n",
        "        Grade_a+=1\n",
        "    elif Score<=85 and Score>75 :\n",
        "        print(\"Grade B\")\n",
        "        Grade_b+=1\n",
        "    elif Score<=75 and Score>55 :\n",
        "        print(\"Grade C\")\n",
        "        Grade_c+=1\n",
        "    elif Score<=55 and Score>=45 :\n",
        "        print(\"Grade D\")\n",
        "        Grade_d+=1\n",
        "    elif Score>=0 and Score<45 :\n",
        "        print(\"Grade F\")\n",
        "        Grade_f+=1\n",
        "    else :\n",
        "        print(\"Invalid Score!!!\")\n",
        "        print(\"*************************\")\n",
        "        break\n",
        "    \n",
        "print(\"Count of A : \",Grade_a)\n",
        "print(\"Count of B : \",Grade_b)\n",
        "print(\"Count of C : \",Grade_c)\n",
        "print(\"Count of D : \",Grade_d)\n",
        "print(\"Count of F : \",Grade_f)"
      ],
      "execution_count": null,
      "outputs": []
    },
    {
      "cell_type": "markdown",
      "metadata": {
        "id": "pRzP0JoUQUt3"
      },
      "source": [
        "-จงเขียนโปรเเกรมรับจำนวนสินค้าเเละราคาสินค้าจากคีย์บอร์ดกี่รายการก็ได้จนกว่ากรอกจำนวนสินค้าเป็นศูนย์จึงหยุดการทำงาน"
      ]
    },
    {
      "cell_type": "code",
      "metadata": {
        "id": "8mJ5s_7pQywx"
      },
      "source": [
        "sogood = 0\n",
        "soprice = 0\n",
        "discount = 0\n",
        "NT = 0\n",
        "while True:\n",
        "    Goods = int(input(\"Enter No. of Goods : \"))\n",
        "    sogood+=Goods\n",
        "    if Goods<=0 :\n",
        "        print(\"-------------------------------\")\n",
        "        break\n",
        "    Price = int(input(\"Enter Goods Price : \"))\n",
        "    soprice+=Price\n",
        "    if Price<5000 :\n",
        "        discount = 0\n",
        "    elif Price>=5000 and Price<=10000:\n",
        "        discount = Price*0.1\n",
        "    elif Price>10000 :\n",
        "        discount = Price*0.2\n",
        "    NT = Price-discount\n",
        "print(\"Total Amount : \",sogood)\n",
        "print(\"Discount : \",discount)\n",
        "print(\"Net Amount : \",NT)\n",
        "print(\"----------------------------------------\")"
      ],
      "execution_count": null,
      "outputs": []
    },
    {
      "cell_type": "markdown",
      "metadata": {
        "id": "cM015qJvcPiH"
      },
      "source": [
        ""
      ]
    }
  ]
}