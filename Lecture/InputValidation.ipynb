{
  "nbformat": 4,
  "nbformat_minor": 0,
  "metadata": {
    "colab": {
      "name": "InputValidation.ipynb",
      "provenance": []
    },
    "kernelspec": {
      "name": "python3",
      "display_name": "Python 3"
    },
    "language_info": {
      "name": "python"
    }
  },
  "cells": [
    {
      "cell_type": "markdown",
      "metadata": {
        "id": "kABqtGCb94gv"
      },
      "source": [
        "## Check if input contains digits using a flag"
      ]
    },
    {
      "cell_type": "code",
      "metadata": {
        "colab": {
          "base_uri": "https://localhost:8080/"
        },
        "id": "F0mHJIl59pH3",
        "outputId": "425fea34-77bc-4a2f-ebeb-558a4be47d4c"
      },
      "source": [
        "validInteger = False\n",
        "\n",
        "while not validInteger:\n",
        "    age = input('How old are you? ')\n",
        "    if age.isdigit():\n",
        "        validInteger = True\n",
        "    else:\n",
        "        print('You must enter a valid number')\n",
        "\n",
        "print('You are ' + str(age))\n"
      ],
      "execution_count": 11,
      "outputs": [
        {
          "output_type": "stream",
          "name": "stdout",
          "text": [
            "How old are you? df\n",
            "You must enter a valid number\n",
            "How old are you? 11\n",
            "You are 11\n"
          ]
        }
      ]
    },
    {
      "cell_type": "markdown",
      "metadata": {
        "id": "oLSeXNsy-63y"
      },
      "source": [
        "## A range and type check using a flag and exception\n"
      ]
    },
    {
      "cell_type": "code",
      "metadata": {
        "id": "1Ci-ONAt-5Fz"
      },
      "source": [
        "isTeenager = False\n",
        "\n",
        "while not isTeenager:\n",
        "    try:\n",
        "        age = int(input('How old are you? '))\n",
        "        if age >= 13 and age <= 19:\n",
        "            isTeenager = True\n",
        "    except:\n",
        "        print('You must enter a valid number between 13 and 19')\n",
        "\n",
        "print('You are a teenager aged ' + str(age))\n"
      ],
      "execution_count": null,
      "outputs": []
    },
    {
      "cell_type": "markdown",
      "metadata": {
        "id": "6EXs358T_kLA"
      },
      "source": [
        "## A length check using a flag\n"
      ]
    },
    {
      "cell_type": "code",
      "metadata": {
        "id": "aKXcHvPR_kbH"
      },
      "source": [
        "\n",
        "isLongEnough = False\n",
        "\n",
        "while not isLongEnough:\n",
        "    password = input('Enter password at least 5 characters: ')\n",
        "    if len(password) >= 5:\n",
        "        isLongEnough = True\n",
        "    else:\n",
        "        print('Password entered is too short')\n",
        "\n",
        "print('Your password entered is: ' + password)\n"
      ],
      "execution_count": null,
      "outputs": []
    },
    {
      "cell_type": "markdown",
      "metadata": {
        "id": "2dCTjnml_1ON"
      },
      "source": [
        "## Multiple validations using a flag"
      ]
    },
    {
      "cell_type": "code",
      "metadata": {
        "colab": {
          "base_uri": "https://localhost:8080/"
        },
        "id": "Hy61Rqia_1XT",
        "outputId": "c5fe1d45-870c-48e5-f27a-354dd1d8003c"
      },
      "source": [
        "isFourDigitPassword = False\n",
        "oldPassword = '2154'\n",
        "\n",
        "\n",
        "while not isFourDigitPassword:\n",
        "    password = input('Enter a new PIN: ')\n",
        "    if len(password) == 4 and password.isdigit() and password != oldPassword:\n",
        "        isFourDigitPassword = True\n",
        "    else:\n",
        "        print('Your PIN must be 4 digits and not the same as your old PIN')\n",
        "\n",
        "print('Your PIN entered is: ' + password)\n"
      ],
      "execution_count": 12,
      "outputs": [
        {
          "output_type": "stream",
          "name": "stdout",
          "text": [
            "Enter a new PIN: 000\n",
            "Your PIN must be 4 digits and not the same as your old PIN\n",
            "Enter a new PIN: llll\n",
            "Your PIN must be 4 digits and not the same as your old PIN\n",
            "Enter a new PIN: 1234\n",
            "Your PIN entered is: 1234\n"
          ]
        }
      ]
    },
    {
      "cell_type": "markdown",
      "metadata": {
        "id": "ou7Ob8uiB0CJ"
      },
      "source": [
        "## Check for a float using an exception\n"
      ]
    },
    {
      "cell_type": "code",
      "metadata": {
        "colab": {
          "base_uri": "https://localhost:8080/"
        },
        "id": "7ORvksE5B0WR",
        "outputId": "7337ba6d-2815-44df-e357-4848b1a5954d"
      },
      "source": [
        "while True:\n",
        "    try:\n",
        "        height = float(input('What is your height in cm? '))\n",
        "        break\n",
        "    except ValueError:\n",
        "        print('Please enter a number')\n",
        "\n",
        "print('Your height is: ' + str(height))\n",
        "\n"
      ],
      "execution_count": 13,
      "outputs": [
        {
          "output_type": "stream",
          "name": "stdout",
          "text": [
            "What is your height in cm? df\n",
            "Please enter a number\n",
            "What is your height in cm? 12\n",
            "Your height is: 12.0\n"
          ]
        }
      ]
    },
    {
      "cell_type": "markdown",
      "metadata": {
        "id": "DGJFtpnGCGB-"
      },
      "source": [
        "## A function to get an integer from the user\n"
      ]
    },
    {
      "cell_type": "code",
      "metadata": {
        "id": "1c_Ak7P-CGL2"
      },
      "source": [
        "def getInteger(message):\n",
        "    while True:\n",
        "        try:\n",
        "            userInt = int(input(message))\n",
        "            return userInt\n",
        "        except ValueError:\n",
        "            print('You must enter an integer')\n",
        "\n",
        "\n",
        "age = getInteger('What is your age? ')\n",
        "players = getInteger('How many players in the game? ')\n"
      ],
      "execution_count": null,
      "outputs": []
    }
  ]
}