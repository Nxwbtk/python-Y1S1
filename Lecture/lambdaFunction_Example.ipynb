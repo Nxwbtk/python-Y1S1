{
  "nbformat": 4,
  "nbformat_minor": 0,
  "metadata": {
    "colab": {
      "name": "lambdaFunction_Example.ipynb",
      "provenance": [],
      "collapsed_sections": []
    },
    "kernelspec": {
      "name": "python3",
      "display_name": "Python 3"
    },
    "language_info": {
      "name": "python"
    }
  },
  "cells": [
    {
      "cell_type": "markdown",
      "metadata": {
        "id": "xYORQ7PevDXw"
      },
      "source": [
        "## Recursive Function"
      ]
    },
    {
      "cell_type": "code",
      "metadata": {
        "id": "c2J9emzuvEmH"
      },
      "source": [
        "def f (n):\n",
        "  print(\"f(%d)\" %n)\n",
        "  if n >= 1:\n",
        "       result = n + f(n-1)\n",
        "       print(\"-- return value at %d : %d -- \" %(n,result))\n",
        "  else:\n",
        "       result = 1\n",
        "  return result\n",
        "\n",
        "print(f(5))"
      ],
      "execution_count": null,
      "outputs": []
    },
    {
      "cell_type": "markdown",
      "metadata": {
        "id": "9RpgrfYCwQcU"
      },
      "source": [
        "## Fibonacci sequence"
      ]
    },
    {
      "cell_type": "code",
      "metadata": {
        "id": "jR3ds69bwQub"
      },
      "source": [
        "\n",
        "# Function for nth Fibonacci number\n",
        " \n",
        "def Fibonacci(n):\n",
        "    if n<0:\n",
        "        print(\"Incorrect input\")\n",
        "    # First Fibonacci number is 0\n",
        "    elif n==0:\n",
        "        return 0\n",
        "    # Second Fibonacci number is 1\n",
        "    elif n==1:\n",
        "        return 1\n",
        "    else:\n",
        "        return Fibonacci(n-1)+Fibonacci(n-2)\n",
        " \n",
        "# Driver Program\n",
        " \n",
        "print(Fibonacci(9))\n",
        " \n",
        "#This code is contributed by Saket Modi"
      ],
      "execution_count": null,
      "outputs": []
    },
    {
      "cell_type": "markdown",
      "metadata": {
        "id": "OqMy23n39PGk"
      },
      "source": [
        "## แบบฝึกหัด 1"
      ]
    },
    {
      "cell_type": "code",
      "metadata": {
        "id": "N57mQB0t9TAS"
      },
      "source": [
        "# 1\n",
        "\n",
        "\n",
        "\n",
        "print(fact(15))\n",
        "\n",
        "\n",
        "#2 \n",
        "\n",
        "\n",
        "\n",
        "print(remain_students(0.9,5))\n"
      ],
      "execution_count": null,
      "outputs": []
    },
    {
      "cell_type": "markdown",
      "metadata": {
        "id": "0soUc_6k9Lpx"
      },
      "source": [
        "## Lambda function"
      ]
    },
    {
      "cell_type": "code",
      "metadata": {
        "id": "I840zfDaeujR"
      },
      "source": [
        "double = lambda x: x * 2\n",
        "\n",
        "print(double(5))\n",
        "\n",
        "sum = lambda x, y : x + y\n",
        "print(sum(3,4))"
      ],
      "execution_count": null,
      "outputs": []
    },
    {
      "cell_type": "code",
      "metadata": {
        "id": "oCdL4chynbvi"
      },
      "source": [
        "data = [5, 3, 8, 7, 1]\n",
        "check = lambda x: 'Pass' if x>= 5 else 'Fail'\n",
        "\n",
        "print(check(7))\n",
        "print ([ check(i) for i in data])\n",
        "\n",
        "check2 = lambda x: 1 if x >= 5 else 0\n",
        "print (check2(7))\n",
        "print ([ check2(i) for i in data])\n"
      ],
      "execution_count": null,
      "outputs": []
    },
    {
      "cell_type": "markdown",
      "metadata": {
        "id": "Oa32qF3es-zt"
      },
      "source": [
        "## แบบฝึกหัด 2"
      ]
    },
    {
      "cell_type": "code",
      "metadata": {
        "id": "99E9NiENtC4K"
      },
      "source": [
        "money = [ 500, 1000, 300,  800] \n",
        "\n",
        "#1\n",
        "\n",
        "print(discount (1000,5))\n",
        "\n",
        "#2\n",
        "\n",
        "print(checknumber(1))\n",
        "print(checknumber('a'))\n",
        "\n",
        "#3\n",
        "\n",
        "print(calDiscount(2000))\n",
        "print(calDiscount(200))\n",
        "\n",
        "#4\n",
        "\n",
        "print([calVAT(i) for i in money])\n"
      ],
      "execution_count": null,
      "outputs": []
    },
    {
      "cell_type": "markdown",
      "metadata": {
        "id": "Kl5Yyd2HDRlj"
      },
      "source": [
        "## Using def function with filter function"
      ]
    },
    {
      "cell_type": "code",
      "metadata": {
        "id": "9GkGSwVR8LGg"
      },
      "source": [
        "def vowel(variable):\n",
        "    letters = ['a', 'e', 'i', 'o', 'u']\n",
        "    if (variable in letters):\n",
        "      return True\n",
        "    else:\n",
        "      return False\n",
        "\n",
        "sequence = ['g', 'e', 'u', 'j', 'k', 's', 'p', 'r']\n",
        "filtered = list(filter(vowel, sequence))\n",
        "print (filtered)\n"
      ],
      "execution_count": null,
      "outputs": []
    },
    {
      "cell_type": "markdown",
      "metadata": {
        "id": "pvj0fd--DZc6"
      },
      "source": [
        "## Using lambda functio with filter function"
      ]
    },
    {
      "cell_type": "code",
      "metadata": {
        "id": "F4Vn_cWZ8LkF"
      },
      "source": [
        "my_list = [1, 5, 4, 6, 8, 11, 3, 12]\n",
        "new_list = list(filter(lambda x: (x%2 == 0) , my_list))\n",
        "\n",
        "print(new_list)\n",
        "\n",
        "\n"
      ],
      "execution_count": null,
      "outputs": []
    },
    {
      "cell_type": "code",
      "metadata": {
        "id": "gC0k7kQp_jsr"
      },
      "source": [
        "my_list2 = [0, 1, 4, 7, 8, 11, 13, 16]\n",
        "new_list2 = list(filter(lambda x: (x%2 != 0) , my_list2))\n",
        "\n",
        "print(new_list2)\n"
      ],
      "execution_count": null,
      "outputs": []
    },
    {
      "cell_type": "markdown",
      "metadata": {
        "id": "7lG8_rAjDOQt"
      },
      "source": [
        "## Using None as a Function Inside filter()"
      ]
    },
    {
      "cell_type": "code",
      "metadata": {
        "id": "08uBNJs5CrQG"
      },
      "source": [
        "# random list\n",
        "random_list = [1, 'a', 0, False, True, '0']\n",
        "\n",
        "filtered_iterator = filter(None, random_list)\n",
        "\n",
        "#converting to list\n",
        "filtered_list = list(filtered_iterator)\n",
        "\n",
        "print(filtered_list)"
      ],
      "execution_count": null,
      "outputs": []
    },
    {
      "cell_type": "markdown",
      "metadata": {
        "id": "XSZR_ZfwDeNg"
      },
      "source": [
        "## Exercise 3"
      ]
    },
    {
      "cell_type": "code",
      "metadata": {
        "id": "1FEMJfpkDhDU"
      },
      "source": [
        "A = [1, 6, 7, 3, 5, 8]\n",
        "B = [2, 5, 7, 4, 6, 'A']\n",
        "X = {'Alan': 100, 'Bob': 75, 'Clark': 60, 'David': 55}\n",
        "\n",
        "#1 \n",
        "\n",
        "\n",
        "\n",
        "#2 \n",
        "\n",
        "\n",
        "\n",
        "#3 \n",
        "\n",
        "\n",
        "\n",
        "#4\n",
        "\n",
        "\n"
      ],
      "execution_count": null,
      "outputs": []
    },
    {
      "cell_type": "markdown",
      "metadata": {
        "id": "VHa_MXBpTSCH"
      },
      "source": [
        "## map"
      ]
    },
    {
      "cell_type": "code",
      "metadata": {
        "id": "Jz7nitpxTK0s"
      },
      "source": [
        "items = (1, 2, 3, 4, 5)\n",
        "squared = list(map(lambda x: x**2, items))\n",
        "print(squared)\n"
      ],
      "execution_count": null,
      "outputs": []
    },
    {
      "cell_type": "markdown",
      "metadata": {
        "id": "QWp4O1w6TVhf"
      },
      "source": [
        "## reduce"
      ]
    },
    {
      "cell_type": "code",
      "metadata": {
        "id": "swqmi7N7TYEr"
      },
      "source": [
        "from  functools import reduce\n",
        "items = [1, 2, 3, 4, 5]\n",
        "product = reduce((lambda x, y: x * y), items)\n",
        "print(product)"
      ],
      "execution_count": null,
      "outputs": []
    },
    {
      "cell_type": "markdown",
      "metadata": {
        "id": "ndbFVX2VwKRl"
      },
      "source": [
        "## Exercise 4"
      ]
    },
    {
      "cell_type": "code",
      "metadata": {
        "id": "_rXA9DsEBJqG"
      },
      "source": [
        "from  functools import reduce\n",
        "A = [1, 2, 3, 4, 5]\n",
        "B = [2, 4, 6, 8, 10]\n",
        "\n",
        "#1\n",
        "\n",
        "\n",
        "#2\n",
        "\n",
        "\n",
        "#3\n",
        "\n",
        "\n",
        "#4\n",
        "\n"
      ],
      "execution_count": null,
      "outputs": []
    }
  ]
}