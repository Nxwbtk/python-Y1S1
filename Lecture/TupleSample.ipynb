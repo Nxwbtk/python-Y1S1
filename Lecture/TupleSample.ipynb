{
  "nbformat": 4,
  "nbformat_minor": 0,
  "metadata": {
    "colab": {
      "name": "TupleSample.ipynb",
      "provenance": [],
      "collapsed_sections": []
    },
    "kernelspec": {
      "name": "python3",
      "display_name": "Python 3"
    },
    "language_info": {
      "name": "python"
    }
  },
  "cells": [
    {
      "cell_type": "markdown",
      "metadata": {
        "id": "icoRU5qPLD-o"
      },
      "source": [
        "## สร้าง tuple ใหม่ "
      ]
    },
    {
      "cell_type": "code",
      "metadata": {
        "id": "gmgHAVoPJBZJ",
        "colab": {
          "base_uri": "https://localhost:8080/"
        },
        "outputId": "f2712547-45a6-4ddc-cf14-ee8ca08e6510"
      },
      "source": [
        "fruits = (\"apple\", \"banana\", \"cherry\")\n",
        "print(fruits)\n",
        "\n",
        "\n",
        "fruits = (\"apple\", \"banana\", \"cherry\", \"apple\", \"cherry\")\n",
        "print(fruits)\n",
        "\n",
        "\n",
        "print(len(fruits))\n",
        "print(type(fruits))"
      ],
      "execution_count": 1,
      "outputs": [
        {
          "output_type": "stream",
          "text": [
            "('apple', 'banana', 'cherry')\n",
            "('apple', 'banana', 'cherry', 'apple', 'cherry')\n",
            "5\n",
            "<class 'tuple'>\n"
          ],
          "name": "stdout"
        }
      ]
    },
    {
      "cell_type": "markdown",
      "metadata": {
        "id": "iBrvwaz5LH5b"
      },
      "source": [
        "## เข้าถึงรายการใน tuple"
      ]
    },
    {
      "cell_type": "code",
      "metadata": {
        "id": "Cvl0ZACrLLVJ",
        "colab": {
          "base_uri": "https://localhost:8080/"
        },
        "outputId": "72511257-e9c7-495c-a152-c3c37c991b68"
      },
      "source": [
        "fruits = (\"apple\", \"banana\", \"cherry\", \"orange\", \"kiwi\", \"melon\", \"mango\")\n",
        "\n",
        "print(fruits[1])\n",
        "print(fruits[-1])\n",
        "print(fruits[2:5])\n",
        "print(fruits[2:])\n",
        "print(fruits[-4:-1])\n",
        "\n",
        "fname = input(\"Your fruit : \")\n",
        "if fname in fruits:\n",
        "  print (\"Yes, your fruit is in the fruits tuple\")\n",
        "else :\n",
        "  print(\"No,your fruit isn't in the fruits tuple\")"
      ],
      "execution_count": 4,
      "outputs": [
        {
          "output_type": "stream",
          "text": [
            "banana\n",
            "mango\n",
            "('cherry', 'orange', 'kiwi')\n",
            "('cherry', 'orange', 'kiwi', 'melon', 'mango')\n",
            "('orange', 'kiwi', 'melon')\n",
            "Your fruit : dasda\n",
            "No,your fruit isn't in the fruits tuple\n"
          ],
          "name": "stdout"
        }
      ]
    },
    {
      "cell_type": "markdown",
      "metadata": {
        "id": "l2Bl1PT5P8ZM"
      },
      "source": [
        "## Unpack tuple \n",
        "\n",
        "แยกรายการใน tuple ออกเป็นตัวแปรต่าง ๆ"
      ]
    },
    {
      "cell_type": "code",
      "metadata": {
        "id": "9ebGKYRNP8km",
        "colab": {
          "base_uri": "https://localhost:8080/"
        },
        "outputId": "cc3c1e6a-46d9-4394-a8f6-8c6284222c41"
      },
      "source": [
        "fruits = (\"apple\", \"banana\", \"cherry\")\n",
        "\n",
        "(green, yellow, red) = fruits\n",
        "\n",
        "print(green)\n",
        "print(yellow)\n",
        "print(red)"
      ],
      "execution_count": 5,
      "outputs": [
        {
          "output_type": "stream",
          "text": [
            "apple\n",
            "banana\n",
            "cherry\n"
          ],
          "name": "stdout"
        }
      ]
    },
    {
      "cell_type": "markdown",
      "metadata": {
        "id": "vXi9LM4HQsS-"
      },
      "source": [
        "## Loop Tuple"
      ]
    },
    {
      "cell_type": "code",
      "metadata": {
        "id": "8xmcKSa5QseY",
        "colab": {
          "base_uri": "https://localhost:8080/"
        },
        "outputId": "1b123377-e837-4c7b-d340-b7f4e4db11db"
      },
      "source": [
        "for f in fruits:\n",
        "    print (f)\n",
        "\n",
        "for i in range(len(fruits)):\n",
        "    print (fruits[i])\n",
        "\n"
      ],
      "execution_count": 9,
      "outputs": [
        {
          "output_type": "stream",
          "text": [
            "apple\n",
            "banana\n",
            "cherry\n",
            "apple\n",
            "banana\n",
            "cherry\n"
          ],
          "name": "stdout"
        }
      ]
    },
    {
      "cell_type": "markdown",
      "metadata": {
        "id": "VbZEKCVUSaKx"
      },
      "source": [
        "## Join Tuples"
      ]
    },
    {
      "cell_type": "code",
      "metadata": {
        "id": "Ong_6LBASabt",
        "colab": {
          "base_uri": "https://localhost:8080/"
        },
        "outputId": "4b0b6cb6-244c-4eff-f9bd-5c6af3d52a40"
      },
      "source": [
        "tuple1 = (\"a\", \"b\" , \"c\")\n",
        "tuple2 = (1, 2, 3)\n",
        "\n",
        "tuple3 = tuple1 + tuple2\n",
        "print(tuple3)"
      ],
      "execution_count": 8,
      "outputs": [
        {
          "output_type": "stream",
          "text": [
            "('a', 'b', 'c', 1, 2, 3)\n"
          ],
          "name": "stdout"
        }
      ]
    },
    {
      "cell_type": "markdown",
      "metadata": {
        "id": "ztEMPe78Shfy"
      },
      "source": [
        "## Multiply Tuples"
      ]
    },
    {
      "cell_type": "code",
      "metadata": {
        "id": "B2RUPD-2Sh7D",
        "colab": {
          "base_uri": "https://localhost:8080/"
        },
        "outputId": "9d49d955-f612-4047-8f08-2c8907d1204f"
      },
      "source": [
        "fruits = (\"apple\", \"banana\", \"cherry\")\n",
        "mytuple = fruits * 2\n",
        "\n",
        "print(mytuple)"
      ],
      "execution_count": 7,
      "outputs": [
        {
          "output_type": "stream",
          "text": [
            "('apple', 'banana', 'cherry', 'apple', 'banana', 'cherry')\n"
          ],
          "name": "stdout"
        }
      ]
    },
    {
      "cell_type": "markdown",
      "metadata": {
        "id": "ZSUS2C7DT5Od"
      },
      "source": [
        "## Tuple Methods"
      ]
    },
    {
      "cell_type": "code",
      "metadata": {
        "id": "9IVe1TjpT68Q",
        "colab": {
          "base_uri": "https://localhost:8080/"
        },
        "outputId": "3e4de6ef-3dc2-4d8b-b6e9-d2202c390dd2"
      },
      "source": [
        "fruits = (\"apple\", \"banana\", \"cherry\", \"apple\", \"cherry\")\n",
        "\n",
        "print(fruits.count(\"apple\"))\n",
        "print(fruits.index(\"banana\"))\n"
      ],
      "execution_count": 10,
      "outputs": [
        {
          "output_type": "stream",
          "text": [
            "2\n",
            "1\n"
          ],
          "name": "stdout"
        }
      ]
    },
    {
      "cell_type": "code",
      "metadata": {
        "id": "3qBiHRtxT5Wk"
      },
      "source": [
        ""
      ],
      "execution_count": null,
      "outputs": []
    }
  ]
}