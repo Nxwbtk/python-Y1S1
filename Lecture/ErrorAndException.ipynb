{
  "nbformat": 4,
  "nbformat_minor": 0,
  "metadata": {
    "colab": {
      "name": "ErrorAndException.ipynb",
      "provenance": []
    },
    "kernelspec": {
      "name": "python3",
      "display_name": "Python 3"
    },
    "language_info": {
      "name": "python"
    }
  },
  "cells": [
    {
      "cell_type": "code",
      "metadata": {
        "id": "yv4YIV346r1A"
      },
      "source": [
        "a = 8\n",
        "b = 10\n",
        "c = a b"
      ],
      "execution_count": null,
      "outputs": []
    },
    {
      "cell_type": "code",
      "metadata": {
        "id": "919H_MOi68G3"
      },
      "source": [
        "def recursion():\n",
        "  return recursion()\n",
        "\n",
        "recursion()"
      ],
      "execution_count": null,
      "outputs": []
    },
    {
      "cell_type": "code",
      "metadata": {
        "id": "j0e3JoTw7Gvt"
      },
      "source": [
        "for i in range(10):\n",
        "print(\"Hello\")"
      ],
      "execution_count": null,
      "outputs": []
    },
    {
      "cell_type": "code",
      "metadata": {
        "id": "84gZ-Gmk7M0f"
      },
      "source": [
        "try:\n",
        "    inp = input()\n",
        "    print ('Press Ctrl+C or Interrupt the Kernel:')\n",
        "except KeyboardInterrupt:\n",
        "    print ('Caught KeyboardInterrupt')\n",
        "else:\n",
        "    print ('No exception occurred')"
      ],
      "execution_count": null,
      "outputs": []
    },
    {
      "cell_type": "code",
      "metadata": {
        "id": "C0wsMoRC7h-D"
      },
      "source": [
        "try:  \n",
        "    a = 100 / 0\n",
        "    print (a)\n",
        "except ZeroDivisionError:  \n",
        "    print (\"Zero Division Exception Raised.\" )\n",
        "else:  \n",
        "    print (\"Success, no error!\")"
      ],
      "execution_count": null,
      "outputs": []
    },
    {
      "cell_type": "code",
      "metadata": {
        "id": "Rn034mEg7rVJ"
      },
      "source": [
        "try:  \n",
        "    import math\n",
        "    print(math.exp(1000))\n",
        "except OverflowError:  \n",
        "    print (\"OverFlow Exception Raised.\")\n",
        "else:  \n",
        "    print (\"Success, no error!\")"
      ],
      "execution_count": null,
      "outputs": []
    },
    {
      "cell_type": "code",
      "metadata": {
        "id": "9r3QYkDE7xY1"
      },
      "source": [
        "try:  \n",
        "    a = 100\n",
        "    b = \"DataCamp\"\n",
        "    assert a == b\n",
        "except AssertionError:  \n",
        "    print (\"Assertion Exception Raised.\")\n",
        "else:  \n",
        "    print (\"Success, no error!\")"
      ],
      "execution_count": null,
      "outputs": []
    },
    {
      "cell_type": "code",
      "metadata": {
        "id": "wEEPKOaz73oG"
      },
      "source": [
        "try:\n",
        "    print (float('Hello'))\n",
        "except ValueError:\n",
        "    print(\"ValueError: could not convert string to float \")\n",
        "else:\n",
        "    print ('Success, no error!')\n"
      ],
      "execution_count": null,
      "outputs": []
    },
    {
      "cell_type": "code",
      "metadata": {
        "id": "eOW-I6x78033"
      },
      "source": [
        "try:  \n",
        "    a = {1:'a', 2:'b', 3:'c'}  \n",
        "    print (a[4])  \n",
        "except LookupError:  \n",
        "    print (\"Key Error Exception Raised.\")\n",
        "else:  \n",
        "    print (\"Success, no error!\")\n"
      ],
      "execution_count": null,
      "outputs": []
    },
    {
      "cell_type": "code",
      "metadata": {
        "id": "7C-15Um186B-"
      },
      "source": [
        "try:\n",
        "    print (ans)\n",
        "except NameError:  \n",
        "    print (\"NameError: name 'ans' is not defined\")\n",
        "else:  \n",
        "    print (\"Success, no error!\")"
      ],
      "execution_count": null,
      "outputs": []
    },
    {
      "cell_type": "code",
      "metadata": {
        "id": "GmGHqVf49BGg"
      },
      "source": [
        "try:\n",
        "    a = 5\n",
        "    b = \"DataCamp\"\n",
        "    c = a + b\n",
        "except TypeError:\n",
        "    print ('TypeError Exception Raised')\n",
        "else:\n",
        "    print ('Success, no error!')"
      ],
      "execution_count": null,
      "outputs": []
    },
    {
      "cell_type": "code",
      "metadata": {
        "id": "QioVKDRC9GEe"
      },
      "source": [
        "x = -1\n",
        "if x < 0:\n",
        "  raise Exception(\"Sorry, no numbers below zero\")"
      ],
      "execution_count": null,
      "outputs": []
    },
    {
      "cell_type": "code",
      "metadata": {
        "id": "XEr7BaAH9PWO"
      },
      "source": [
        "x = \"hello\"\n",
        "if not type(x) is int:\n",
        "  raise TypeError(\"Only integers are allowed\")\n"
      ],
      "execution_count": null,
      "outputs": []
    }
  ]
}