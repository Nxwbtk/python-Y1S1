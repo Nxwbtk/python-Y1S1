{
  "nbformat": 4,
  "nbformat_minor": 0,
  "metadata": {
    "colab": {
      "name": "ListSample.ipynb",
      "provenance": [],
      "collapsed_sections": []
    },
    "kernelspec": {
      "name": "python3",
      "display_name": "Python 3"
    },
    "language_info": {
      "name": "python"
    }
  },
  "cells": [
    {
      "cell_type": "markdown",
      "metadata": {
        "id": "jKrleQcqpRON"
      },
      "source": [
        "## คำสั่งต่าง ๆ ใน list"
      ]
    },
    {
      "cell_type": "code",
      "metadata": {
        "id": "A_ip5cbyYKFD",
        "colab": {
          "base_uri": "https://localhost:8080/"
        },
        "outputId": "3acac97c-c044-46c8-c5ec-a0c5016d3c41"
      },
      "source": [
        "mylist = [5717400144, \"chatchai\"]\n",
        "mylist.append(\"Computer Science\")\n",
        "print(mylist)\n",
        "\n",
        "\n",
        "mylist.insert(2, \"Faculty of Science\")\n",
        "print(mylist)\n",
        "\n",
        "item = mylist.pop(2)\n",
        "print(item)\n",
        "\n",
        "mylist.remove(\"chatchai\")\n",
        "print(mylist)\n",
        "\n",
        "\n",
        "newlist = mylist.copy()\n",
        "newlist.reverse()\n",
        "print(newlist)\n",
        "\n",
        "\n",
        "mylist.clear()\n",
        "print(mylist)\n",
        "\n",
        "\n"
      ],
      "execution_count": 2,
      "outputs": [
        {
          "output_type": "stream",
          "text": [
            "[5717400144, 'chatchai', 'Computer Science']\n",
            "[5717400144, 'chatchai', 'Faculty of Science', 'Computer Science']\n",
            "Faculty of Science\n",
            "[5717400144, 'Computer Science']\n",
            "['Computer Science', 5717400144]\n",
            "[]\n"
          ],
          "name": "stdout"
        }
      ]
    },
    {
      "cell_type": "markdown",
      "metadata": {
        "id": "gB-LfiFTpWxd"
      },
      "source": [
        "## วิธีการแสดงรายการแต่ละค่าใน list"
      ]
    },
    {
      "cell_type": "code",
      "metadata": {
        "id": "A3hNMJgtiL7f"
      },
      "source": [
        "mylist = [1, \"chatchai\",3.5]\n",
        "print(mylist[0])\n",
        "print(mylist[1])\n",
        "print(mylist[2])\n",
        "\n",
        "#create range of list\n",
        "print(mylist[0:2])"
      ],
      "execution_count": null,
      "outputs": []
    },
    {
      "cell_type": "markdown",
      "metadata": {
        "id": "TTu7eBY6pctb"
      },
      "source": [
        "## วิธีการลบรายการออกจาก list"
      ]
    },
    {
      "cell_type": "code",
      "metadata": {
        "id": "3WQHx0YekaBB"
      },
      "source": [
        "mylist = [1, \"chatchai\",3.5]\n",
        "\n",
        "\n",
        "mylist.pop(2)  # remove third element from list\n",
        "mylist.remove(\"chatchai\") # remove chatchai from list\n",
        "print(mylist)\n"
      ],
      "execution_count": null,
      "outputs": []
    },
    {
      "cell_type": "markdown",
      "metadata": {
        "id": "-e1poPbDrg0j"
      },
      "source": [
        "## วิธีการเพิ่มรายการใหม่เข้าใน list"
      ]
    },
    {
      "cell_type": "code",
      "metadata": {
        "id": "Qp-P0BFGiNle",
        "colab": {
          "base_uri": "https://localhost:8080/"
        },
        "outputId": "023ec97d-d049-4220-abda-e3ceaf560d6a"
      },
      "source": [
        "mylist = []\n",
        "mylist.append(1)\n",
        "mylist.append(2)\n",
        "mylist.append(3)\n",
        "\n",
        "# prints out 1,2,3\n",
        "for x in mylist:    \n",
        "    print(x)"
      ],
      "execution_count": 3,
      "outputs": [
        {
          "output_type": "stream",
          "text": [
            "1\n",
            "2\n",
            "3\n"
          ],
          "name": "stdout"
        }
      ]
    },
    {
      "cell_type": "markdown",
      "metadata": {
        "id": "syTKpwF9rn7s"
      },
      "source": [
        "## วิธีการแก้ไขรายการใน list"
      ]
    },
    {
      "cell_type": "code",
      "metadata": {
        "id": "YbKUXdx7icEL",
        "colab": {
          "base_uri": "https://localhost:8080/"
        },
        "outputId": "526d414a-0105-471f-e154-cd0d1f22e302"
      },
      "source": [
        "Primes = [2, 3, 5, 7, 11, 13]\n",
        "Rainbow = ['Red', 'Orange', 'Yellow', 'Green', 'Blue', 'Indigo', 'Violet']\n",
        "\n",
        "print(Rainbow[0])\n",
        "\n",
        "#Update value in list\n",
        "Rainbow[0] = 'brown'\n",
        "\n",
        "\n",
        "print('Print the rainbow')\n",
        "for i in range(len(Rainbow)):\n",
        "    print(Rainbow[i])\n"
      ],
      "execution_count": 5,
      "outputs": [
        {
          "output_type": "stream",
          "text": [
            "Red\n",
            "Print the rainbow\n",
            "brown\n",
            "Orange\n",
            "Yellow\n",
            "Green\n",
            "Blue\n",
            "Indigo\n",
            "Violet\n"
          ],
          "name": "stdout"
        }
      ]
    },
    {
      "cell_type": "markdown",
      "metadata": {
        "id": "KaoW2C0lrxVK"
      },
      "source": [
        "## วิธีการเพิ่มรายการตามจำนวนที่กำหนดไว้"
      ]
    },
    {
      "cell_type": "code",
      "metadata": {
        "id": "7EgBOO6yit-Z",
        "colab": {
          "base_uri": "https://localhost:8080/"
        },
        "outputId": "2881ebbe-bdf2-4161-8a1b-80c1da502843"
      },
      "source": [
        "a = [ ] # start an empty list\n",
        "n = int(input(\"Number of Elements: \")) \n",
        "for i in range(n):\n",
        "    newelement = int(input(\"Enter Element :\"))\n",
        "    a.append(newelement) \n",
        "\n",
        "print(a)"
      ],
      "execution_count": 7,
      "outputs": [
        {
          "output_type": "stream",
          "text": [
            "Number of Elements: 3\n",
            "Enter Element :11\n",
            "Enter Element :22\n",
            "Enter Element :33\n",
            "[11, 22, 33]\n"
          ],
          "name": "stdout"
        }
      ]
    },
    {
      "cell_type": "markdown",
      "metadata": {
        "id": "heCNTFLsr4I1"
      },
      "source": [
        "## การใช้คำสั่ง split ในการสร้าง list"
      ]
    },
    {
      "cell_type": "code",
      "metadata": {
        "id": "D6e12LcblB5A",
        "colab": {
          "base_uri": "https://localhost:8080/"
        },
        "outputId": "603875ff-ba4a-47b2-d31d-ddb89b039bd0"
      },
      "source": [
        "s = input(\"Enter your name\") \n",
        "a = s.split() \n",
        "print(a)"
      ],
      "execution_count": 8,
      "outputs": [
        {
          "output_type": "stream",
          "text": [
            "Enter your nameBunthakan Sirikamonthip\n",
            "['Bunthakan', 'Sirikamonthip']\n"
          ],
          "name": "stdout"
        }
      ]
    },
    {
      "cell_type": "code",
      "metadata": {
        "id": "7h4mc32UlNxz",
        "colab": {
          "base_uri": "https://localhost:8080/"
        },
        "outputId": "37d020bf-7b3b-4b37-e588-2bac92705c79"
      },
      "source": [
        "a = input(\"Enter your id: \" ).split()\n",
        "for i in range(len(a)):\n",
        "    a[i] = int(a[i])\n",
        "print(a)\n"
      ],
      "execution_count": 10,
      "outputs": [
        {
          "output_type": "stream",
          "text": [
            "Enter your id: 12 32 45 65\n",
            "[12, 32, 45, 65]\n"
          ],
          "name": "stdout"
        }
      ]
    },
    {
      "cell_type": "code",
      "metadata": {
        "id": "Mg4ruZGtlb62"
      },
      "source": [
        "a = '192.168.0.1'.split('.')\n",
        "print(a)\n"
      ],
      "execution_count": null,
      "outputs": []
    },
    {
      "cell_type": "markdown",
      "metadata": {
        "id": "e1wfB4GzsAd7"
      },
      "source": [
        "## วิธีการใช้คำสั่ง join เพื่อรวมรายการใน list ให้เป็นข้อความเดียวกัน"
      ]
    },
    {
      "cell_type": "code",
      "metadata": {
        "id": "JQdGKKQ0leqE",
        "colab": {
          "base_uri": "https://localhost:8080/"
        },
        "outputId": "c0a7e535-ed8e-443f-b2e5-4b90109b2914"
      },
      "source": [
        "a = ['red', 'green', 'blue']\n",
        "print(' '.join(a))\n",
        "\n",
        "b = [1, 2, 3]\n",
        "print(' '.join([str(i) for i in b]))\n",
        "\n"
      ],
      "execution_count": 9,
      "outputs": [
        {
          "output_type": "stream",
          "text": [
            "red green blue\n",
            "1 2 3\n"
          ],
          "name": "stdout"
        }
      ]
    },
    {
      "cell_type": "markdown",
      "metadata": {
        "id": "ABCCCBA2sIon"
      },
      "source": [
        "## การใช้คำสั่ง for เพื่อสร้างรายการลำดับตัวเลขใน list"
      ]
    },
    {
      "cell_type": "code",
      "metadata": {
        "id": "eBQNeNkOl88z",
        "colab": {
          "base_uri": "https://localhost:8080/"
        },
        "outputId": "22fd3b19-9a20-453e-fb17-b54a65e07514"
      },
      "source": [
        "a = [0 for i in range(5)]\n",
        "print(a)\n",
        "\n",
        "a = [1 for i in range(5)]\n",
        "print(a)\n",
        "\n",
        "n = 5\n",
        "a = [i ** 2 for i in range(1, n + 1)]\n",
        "print(a)\n"
      ],
      "execution_count": 11,
      "outputs": [
        {
          "output_type": "stream",
          "text": [
            "[0, 0, 0, 0, 0]\n",
            "[1, 1, 1, 1, 1]\n",
            "[1, 4, 9, 16, 25]\n"
          ],
          "name": "stdout"
        }
      ]
    },
    {
      "cell_type": "code",
      "metadata": {
        "id": "rDFNWa9cmd0D",
        "colab": {
          "base_uri": "https://localhost:8080/"
        },
        "outputId": "cbd5a5cf-3cdc-4230-b802-fed01e172224"
      },
      "source": [
        "# random ten numbers from 0 to 9\n",
        "from random import randrange\n",
        "n = 10\n",
        "a = [randrange(1, 10) for i in range(n)]\n",
        "print(a)\n",
        "\n",
        "\n",
        "\n",
        "# input three elements into list\n",
        "a = [input() for i in range(3)]\n",
        "print(a)\n"
      ],
      "execution_count": 12,
      "outputs": [
        {
          "output_type": "stream",
          "text": [
            "[3, 3, 1, 2, 4, 6, 6, 6, 3, 7]\n",
            "1\n",
            "2\n",
            "3\n",
            "['1', '2', '3']\n"
          ],
          "name": "stdout"
        }
      ]
    },
    {
      "cell_type": "markdown",
      "metadata": {
        "id": "xnXy-mSApKAD"
      },
      "source": [
        "## แสดงรายการใน list"
      ]
    },
    {
      "cell_type": "code",
      "metadata": {
        "id": "l6xV91Cfn2Ft"
      },
      "source": [
        "fruits = [\"apple\", \"banana\", \"cherry\"]\n",
        "for x in fruits:\n",
        "   print(x)\n"
      ],
      "execution_count": null,
      "outputs": []
    },
    {
      "cell_type": "markdown",
      "metadata": {
        "id": "SJAehI5lpEJT"
      },
      "source": [
        "## ค้นหารายการใน list "
      ]
    },
    {
      "cell_type": "code",
      "metadata": {
        "id": "TS-JZy70n-O8",
        "colab": {
          "base_uri": "https://localhost:8080/"
        },
        "outputId": "675743cd-1901-40ce-ae42-8e9f306b9bae"
      },
      "source": [
        "name = input(\"Enter your search name : \")\n",
        "\n",
        "if name in [\"John\", \"Rick\"]:    \n",
        "  print(\"Your name is either John or Rick.\")\n",
        "else:\n",
        "  print(\"Your name is not found in list.\")"
      ],
      "execution_count": 13,
      "outputs": [
        {
          "output_type": "stream",
          "text": [
            "Enter your search name : New\n",
            "Your name is not found in list.\n"
          ],
          "name": "stdout"
        }
      ]
    }
  ]
}