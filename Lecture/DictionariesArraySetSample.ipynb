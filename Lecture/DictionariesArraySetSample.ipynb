{
  "nbformat": 4,
  "nbformat_minor": 0,
  "metadata": {
    "colab": {
      "name": "DictionariesArraySetSample.ipynb",
      "provenance": [],
      "collapsed_sections": []
    },
    "kernelspec": {
      "name": "python3",
      "display_name": "Python 3"
    },
    "language_info": {
      "name": "python"
    }
  },
  "cells": [
    {
      "cell_type": "markdown",
      "metadata": {
        "id": "jKrleQcqpRON"
      },
      "source": [
        "## คำสั่งสร้างรายการใน dictionary"
      ]
    },
    {
      "cell_type": "code",
      "metadata": {
        "id": "A_ip5cbyYKFD"
      },
      "source": [
        "# Create phonebook dictionaries\n",
        "\n",
        "phonebook = {}\n",
        "phonebook[\"John\"] = 938477566\n",
        "phonebook[\"Jack\"] = 938377264\n",
        "phonebook[\"Jill\"] = 947662781\n",
        "\n",
        "print(phonebook)\n"
      ],
      "execution_count": null,
      "outputs": []
    },
    {
      "cell_type": "markdown",
      "metadata": {
        "id": "gB-LfiFTpWxd"
      },
      "source": [
        "## วิธีการสร้างรายการใน dictionary แบบที่ 2"
      ]
    },
    {
      "cell_type": "code",
      "metadata": {
        "id": "A3hNMJgtiL7f"
      },
      "source": [
        "phonebook = {\n",
        "    \"John\" : 938477566,\n",
        "    \"Jack\" : 938377264,\n",
        "    \"Jill\" : 947662781\n",
        "}\n",
        "\n",
        "print(phonebook)"
      ],
      "execution_count": null,
      "outputs": []
    },
    {
      "cell_type": "markdown",
      "metadata": {
        "id": "nigPP0QFujcc"
      },
      "source": [
        "## เราสามารถสร้าง dictionary ที่เก็บข้อมูลได้หลายประเภทได้ "
      ]
    },
    {
      "cell_type": "code",
      "metadata": {
        "id": "DKUdSL5jujos"
      },
      "source": [
        "car = {\n",
        "  \"brand\": \"Ford\",\n",
        "  \"electric\": False,\n",
        "  \"year\": 1964,\n",
        "  \"colors\": [\"red\", \"white\", \"blue\"]\n",
        "}\n",
        "\n",
        "print (car)\n",
        "print(type(car))\n",
        "print (len(car))"
      ],
      "execution_count": null,
      "outputs": []
    },
    {
      "cell_type": "markdown",
      "metadata": {
        "id": "-KjnTZWhv4Mw"
      },
      "source": [
        "## การเข้าถึงรายการใน dictionary"
      ]
    },
    {
      "cell_type": "code",
      "metadata": {
        "id": "35mj3a8Tv4b6"
      },
      "source": [
        "car = {\n",
        "  \"brand\": \"Ford\",\n",
        "  \"electric\": False,\n",
        "  \"year\": 1964,\n",
        "  \"colors\": [\"red\", \"white\", \"blue\"]\n",
        "}\n",
        "\n",
        "# Access value from key \n",
        "x = car[\"brand\"]\n",
        "y = car.get(\"year\")\n",
        "\n",
        "print(x, y)"
      ],
      "execution_count": null,
      "outputs": []
    },
    {
      "cell_type": "markdown",
      "metadata": {
        "id": "JBwrPiA82p-3"
      },
      "source": [
        "## แสดงการเข้าถึงค่า Key และ Value ใน dictionary"
      ]
    },
    {
      "cell_type": "code",
      "metadata": {
        "id": "l8PhFv0B2qHu"
      },
      "source": [
        "car = {\n",
        "  \"brand\": \"Ford\",\n",
        "  \"electric\": False,\n",
        "  \"year\": 1964,\n",
        "  \"colors\": [\"red\", \"white\", \"blue\"]\n",
        "}\n",
        "\n",
        "k = car.keys()\n",
        "v = car.values()\n",
        "i = car.items()\n",
        "\n",
        "print (k)\n",
        "print(v)\n",
        "print (i)"
      ],
      "execution_count": null,
      "outputs": []
    },
    {
      "cell_type": "markdown",
      "metadata": {
        "id": "TTu7eBY6pctb"
      },
      "source": [
        "## วิธีการเพิ่มรายการออกจาก dictionary"
      ]
    },
    {
      "cell_type": "code",
      "metadata": {
        "id": "3WQHx0YekaBB"
      },
      "source": [
        "phonebook[\"chatchai\"] = 938377264\n",
        "phonebook.update({\"somchai\": 15620020})\n",
        "\n",
        "print (phonebook)\n",
        "\n"
      ],
      "execution_count": null,
      "outputs": []
    },
    {
      "cell_type": "markdown",
      "metadata": {
        "id": "2owK6lq9tjmA"
      },
      "source": [
        ""
      ]
    },
    {
      "cell_type": "markdown",
      "metadata": {
        "id": "syTKpwF9rn7s"
      },
      "source": [
        "## วิธีการแก้ไขรายการใน list"
      ]
    },
    {
      "cell_type": "code",
      "metadata": {
        "id": "YbKUXdx7icEL"
      },
      "source": [
        "phonebook[\"John\"] = 11111111\n",
        "phonebook.update({\"Jack\": 2222222})\n",
        "\n",
        "\n",
        "print (phonebook)"
      ],
      "execution_count": null,
      "outputs": []
    },
    {
      "cell_type": "markdown",
      "metadata": {
        "id": "KaoW2C0lrxVK"
      },
      "source": [
        "## วิธีการลบรายการตามชื่อ key ที่กำหนดไว้"
      ]
    },
    {
      "cell_type": "code",
      "metadata": {
        "id": "7EgBOO6yit-Z"
      },
      "source": [
        "del phonebook[\"John\"]\n",
        "phonebook.pop(\"John\")\n",
        "\n",
        "\n",
        "print(phonebook)\n"
      ],
      "execution_count": null,
      "outputs": []
    },
    {
      "cell_type": "markdown",
      "metadata": {
        "id": "heCNTFLsr4I1"
      },
      "source": [
        "## แสดงรายการ key และ value ใน dictionary"
      ]
    },
    {
      "cell_type": "code",
      "metadata": {
        "id": "D6e12LcblB5A"
      },
      "source": [
        "for name, number in phonebook.items():\n",
        "    print(\"Phone number of %s is %d\" % (name, number))\n"
      ],
      "execution_count": null,
      "outputs": []
    },
    {
      "cell_type": "markdown",
      "metadata": {
        "id": "e1wfB4GzsAd7"
      },
      "source": [
        "## ตรวจสอบว่า chatchai เป็นคีย์อยู่ใน dictionary\n"
      ]
    },
    {
      "cell_type": "code",
      "metadata": {
        "id": "JQdGKKQ0leqE"
      },
      "source": [
        "if \"chatchai\" in phonebook :\n",
        "  print (\"Key found\")\n",
        "else:\n",
        "  print (\"No keys found\")\n"
      ],
      "execution_count": null,
      "outputs": []
    },
    {
      "cell_type": "markdown",
      "metadata": {
        "id": "SJAehI5lpEJT"
      },
      "source": [
        "## แสดงรายการ key ใน dictionary\n"
      ]
    },
    {
      "cell_type": "code",
      "metadata": {
        "id": "TS-JZy70n-O8"
      },
      "source": [
        "# แบบที่ 1\n",
        "for key in phonebook:\n",
        "    print(\"Phone name of %s \" % (key))\n",
        "\n",
        "# แบบที่ 2\n",
        "for name in phonebook.keys():\n",
        "    print(\"Phone name of %s \" % (name))\n"
      ],
      "execution_count": null,
      "outputs": []
    },
    {
      "cell_type": "markdown",
      "metadata": {
        "id": "qYfV0SddBsA-"
      },
      "source": [
        "## แสดงรายการ value ใน dictionary"
      ]
    },
    {
      "cell_type": "code",
      "metadata": {
        "id": "1kwCduF5BrEE"
      },
      "source": [
        "for key in phonebook:\n",
        "    print(\"Phone number is %d\" % phonebook[key])\n",
        "\n",
        "\n",
        "for number in phonebook.values():\n",
        "    print(\"Phone number is %d\" % (number))\n",
        "\n"
      ],
      "execution_count": null,
      "outputs": []
    },
    {
      "cell_type": "markdown",
      "metadata": {
        "id": "M1Cu8m5WdLmV"
      },
      "source": [
        "## Two-dimensional lists (arrays)"
      ]
    },
    {
      "cell_type": "code",
      "metadata": {
        "id": "_bhzg9DndZi0"
      },
      "source": [
        "a = [[1, 2, 3], [4, 5, 6]]\n",
        "print(a[0])\n",
        "print(a[1])\n",
        "\n",
        "b = a[0]\n",
        "print(b)\n",
        "\n",
        "print(a[0][2])\n"
      ],
      "execution_count": null,
      "outputs": []
    },
    {
      "cell_type": "markdown",
      "metadata": {
        "id": "ZshDvl4BemZk"
      },
      "source": [
        "## **Numpy Array (ndarray)**"
      ]
    },
    {
      "cell_type": "code",
      "metadata": {
        "id": "6E98i0n4eqhR"
      },
      "source": [
        "import numpy as np\n",
        "\n",
        "arr = np.array([1, 2, 3, 4, 5]) # create ndarray from List\n",
        "\n",
        "print(arr)\n",
        "\n",
        "print(type(arr))"
      ],
      "execution_count": null,
      "outputs": []
    },
    {
      "cell_type": "code",
      "metadata": {
        "id": "X0yrJIfXewg_"
      },
      "source": [
        "import numpy as np\n",
        "\n",
        "arr = np.array((1, 2 , 3, 4, 5)) # create ndarray from Tuple\n",
        "\n",
        "print(arr)\n",
        "print(type(arr))"
      ],
      "execution_count": null,
      "outputs": []
    },
    {
      "cell_type": "markdown",
      "metadata": {
        "id": "4kiY4njZiMLt"
      },
      "source": [
        "## Dimensions in Array"
      ]
    },
    {
      "cell_type": "code",
      "metadata": {
        "id": "CFMMc0dUiQSz"
      },
      "source": [
        "import numpy as np\n",
        "\n",
        "print(\" 0-D Array \")\n",
        "arr = np.array(42)\n",
        "print(arr)\n",
        "print(\"\\n\")\n",
        "\n",
        "print(\" 1-D Array \")\n",
        "arr = np.array([1, 2, 3, 4, 5])\n",
        "print(arr)\n",
        "print(\"\\n\")\n",
        "\n",
        "print(\" 2-D Array \")\n",
        "arr = np.array([[1, 2, 3], [4, 5, 6]])\n",
        "print(arr)\n",
        "\n",
        "\n",
        "print(\" 3-D Array \")\n",
        "arr = np.array([[1, 2, 3], [4, 5, 6]])\n",
        "print(arr)"
      ],
      "execution_count": null,
      "outputs": []
    },
    {
      "cell_type": "markdown",
      "metadata": {
        "id": "h22Kucw6niut"
      },
      "source": [
        "## ตรวจสอบขนาดของมิติของอาร์เรย์ (ndim)"
      ]
    },
    {
      "cell_type": "code",
      "metadata": {
        "id": "RW9whgo8nhEL"
      },
      "source": [
        "import numpy as np\n",
        "\n",
        "a = np.array(42)\n",
        "b = np.array([1, 2, 3, 4, 5])\n",
        "c = np.array([[1, 2, 3], [4, 5, 6]])\n",
        "d = np.array([[[1, 2, 3], [4, 5, 6]], [[1, 2, 3], [4, 5, 6]]])\n",
        "\n",
        "print(a.ndim)\n",
        "print(b.ndim)\n",
        "print(c.ndim)\n",
        "print(d.ndim)"
      ],
      "execution_count": null,
      "outputs": []
    },
    {
      "cell_type": "markdown",
      "metadata": {
        "id": "vR5whLumnodv"
      },
      "source": [
        "## High Dimensional Array (ndmin)"
      ]
    },
    {
      "cell_type": "code",
      "metadata": {
        "id": "v9-5PKGTm5o1"
      },
      "source": [
        "import numpy as np\n",
        "\n",
        "arr = np.array([1, 2, 3, 4], ndmin=5)\n",
        "\n",
        "print(arr)\n",
        "print('number of dimensions :', arr.ndim)"
      ],
      "execution_count": null,
      "outputs": []
    },
    {
      "cell_type": "markdown",
      "metadata": {
        "id": "NfQFq8j7scpC"
      },
      "source": [
        "## Access Array"
      ]
    },
    {
      "cell_type": "code",
      "metadata": {
        "id": "3sYIEv40r0vQ"
      },
      "source": [
        "import numpy as np\n",
        "\n",
        "arr1 = np.array([10, 20, 30, 40, 50])\n",
        "print('4th element : ', arr1[3])\n",
        "\n",
        "arr2 = np.array([[1,2,3,4,5], [6,7,8,9,10]])\n",
        "print('2nd element on 1st dim: ', arr2[0, 1])\n",
        "print('5th element on 2nd dim: ', arr2[1, 4])\n",
        "\n",
        "\n",
        "arr3 = np.array([[[1, 2, 3], [4, 5, 6]], [[7, 8, 9], [10, 11, 12]]])\n",
        "print(arr3[0, 1, 2])\n"
      ],
      "execution_count": null,
      "outputs": []
    },
    {
      "cell_type": "code",
      "metadata": {
        "id": "nUrJYWuQsgii"
      },
      "source": [
        "import numpy as np\n",
        "\n",
        "arr1 = np.array([10, 20, 30, 40, 50])\n",
        "print('2nd - 4th ', arr1[1:3])\n",
        "print('2nd to end : ', arr1[2:])\n",
        "print('start to 4th : ', arr1[:3])\n",
        "print('end to 2th : ', arr1[-4:-1])\n",
        "\n",
        "print('\\n')\n",
        "#Add Step\n",
        "print('2nd - 4th step 2 : ', arr1[1:3:2])\n",
        "print('step 2 : ', arr1[::2])\n",
        "\n",
        "\n"
      ],
      "execution_count": null,
      "outputs": []
    },
    {
      "cell_type": "code",
      "metadata": {
        "id": "rXkJSNQnzxUa"
      },
      "source": [
        "arr2 = np.array([[1,2,3,4,5], [6,7,8,9,10]])\n",
        "print('2nd element on 1st – 2nd  dim: ', arr2[0:2, 1])\n",
        "print('2nd - 5th  element on 2nd  dim: ', arr2[1, 1:4])\n",
        "print('2nd - 5th  element on 1st – 2nd dim: ', arr2[0:2, 1:4])\n",
        "\n"
      ],
      "execution_count": null,
      "outputs": []
    },
    {
      "cell_type": "markdown",
      "metadata": {
        "id": "Ce_aP7Uw0IcW"
      },
      "source": [
        "## Set"
      ]
    },
    {
      "cell_type": "code",
      "metadata": {
        "id": "dxkQpMZQ0HyS"
      },
      "source": [
        "A = {1, 2, 3}\n",
        "B = set('qwerty')\n",
        "print(A)\n",
        "print(B)\n"
      ],
      "execution_count": null,
      "outputs": []
    },
    {
      "cell_type": "markdown",
      "metadata": {
        "id": "NFSgkKBw0s0y"
      },
      "source": [
        "## Set Iteration"
      ]
    },
    {
      "cell_type": "code",
      "metadata": {
        "id": "OIwvtgAn0dAt"
      },
      "source": [
        "primes = {2, 3, 5, 7, 11}\n",
        "\n",
        "print(type(primes))\n",
        "for num in primes:\n",
        "    print(num)\n"
      ],
      "execution_count": null,
      "outputs": []
    },
    {
      "cell_type": "code",
      "metadata": {
        "id": "ET0qHIZ10rnG"
      },
      "source": [
        "A = {1, 2, 3}\n",
        "print( 4 not in A)\n",
        "\n",
        "A.add(4)\n",
        "print(A)\n"
      ],
      "execution_count": null,
      "outputs": []
    },
    {
      "cell_type": "code",
      "metadata": {
        "id": "aRiMcuns09ZJ"
      },
      "source": [
        "A = {1, 2, 3}\n",
        "B = {3, 4, 5}\n",
        "C = A.union(B)\n",
        "print(C)\n",
        "\n",
        "A = {1, 2, 3}\n",
        "B = {3, 4, 5}\n",
        "A.update(B)\n",
        "print(A)\n",
        "\n",
        "A = {1, 2, 3}\n",
        "B = {3, 4, 5}\n",
        "C = A.intersection(B)\n",
        "print(C)\n",
        "\n",
        "A = {1, 2, 3}\n",
        "B = {3, 4, 5}\n",
        "C = A.difference(B)\n",
        "print(C)\n"
      ],
      "execution_count": null,
      "outputs": []
    },
    {
      "cell_type": "markdown",
      "metadata": {
        "id": "38YyM5TO4D8O"
      },
      "source": [
        "## Type Conversion"
      ]
    },
    {
      "cell_type": "code",
      "metadata": {
        "id": "dk4DdEMp4GZB"
      },
      "source": [
        "A = [1, 2, 3]          # List\n",
        "B = (4, 5, 6)         # Tuple\n",
        "C = {7, 8, 9}         # Set\n",
        "\n",
        "ListTuple = tuple(A)\n",
        "ListSet = set(A)\n",
        "print(ListTuple)\n",
        "print(ListSet)\n",
        "\n",
        "TupleList = list(B)\n",
        "TupleSet = set(B)\n",
        "print(TupleList)\n",
        "print(TupleSet)\n",
        "\n",
        "\n",
        "SetList = list(C)\n",
        "SetTuple = tuple(C)\n",
        "print(SetList)\n",
        "print(SetTuple)"
      ],
      "execution_count": null,
      "outputs": []
    }
  ]
}