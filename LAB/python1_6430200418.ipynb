{
  "nbformat": 4,
  "nbformat_minor": 0,
  "metadata": {
    "kernelspec": {
      "name": "python3",
      "display_name": "Python 3"
    },
    "colab": {
      "name": "Python_Learn01.ipynb",
      "provenance": [],
      "collapsed_sections": []
    },
    "language_info": {
      "name": "python"
    }
  },
  "cells": [
    {
      "cell_type": "markdown",
      "metadata": {
        "id": "4mjKaZIDWzzh"
      },
      "source": [
        "# 1. สร้างและกำหนดค่าตัวแปร "
      ]
    },
    {
      "cell_type": "code",
      "metadata": {
        "trusted": true,
        "id": "94EWf8XtWzzj",
        "colab": {
          "base_uri": "https://localhost:8080/"
        },
        "outputId": "99099e84-37fc-46d5-e4a1-0bac9ec631ca"
      },
      "source": [
        "Name = \"Bunthakan\"\n",
        "Age = 18\n",
        "Weight = 80\n",
        "Status = True\n",
        "\n",
        "#print my name\n",
        "#print(\"My name is \" + Name + \".\")\n",
        "print(\"I am \" + str(Age ) + \" years old.\")"
      ],
      "execution_count": 16,
      "outputs": [
        {
          "output_type": "stream",
          "text": [
            "I am 18 years old.\n"
          ],
          "name": "stdout"
        }
      ]
    },
    {
      "cell_type": "code",
      "metadata": {
        "colab": {
          "base_uri": "https://localhost:8080/"
        },
        "id": "ol8cNn_ifmJY",
        "outputId": "7f355e4d-9c37-4636-ca6d-04cd476e3692"
      },
      "source": [
        "print(\"Hello World\")\n",
        "print(\"This is my first program.\")"
      ],
      "execution_count": 4,
      "outputs": [
        {
          "output_type": "stream",
          "text": [
            "Hello World\n",
            "This is my first program.\n"
          ],
          "name": "stdout"
        }
      ]
    },
    {
      "cell_type": "markdown",
      "metadata": {
        "id": "oBUklxToWzzj"
      },
      "source": [
        "# 2. ตรวจสอบประเภทค่าข้อมูลของตัวแปร"
      ]
    },
    {
      "cell_type": "code",
      "metadata": {
        "trusted": true,
        "id": "04chqnaxWzzk",
        "colab": {
          "base_uri": "https://localhost:8080/"
        },
        "outputId": "0b06e5db-ac13-4c2d-e38c-cf7b13250fb2"
      },
      "source": [
        "print(type(Name))\n",
        "print(type(Age))\n",
        "\n",
        "print(type(Weight))\n",
        "print(type(Status))"
      ],
      "execution_count": 15,
      "outputs": [
        {
          "output_type": "stream",
          "text": [
            "<class 'str'>\n",
            "<class 'int'>\n",
            "<class 'int'>\n",
            "<class 'bool'>\n"
          ],
          "name": "stdout"
        }
      ]
    },
    {
      "cell_type": "markdown",
      "metadata": {
        "trusted": true,
        "id": "Yh8Tz0uFWzzk"
      },
      "source": [
        "# 3. แปลงค่าตัวแปร"
      ]
    },
    {
      "cell_type": "code",
      "metadata": {
        "trusted": true,
        "id": "1KV1dnuxWzzl",
        "colab": {
          "base_uri": "https://localhost:8080/"
        },
        "outputId": "da1823d7-cdd9-4c95-b135-85aef4f3e5c3"
      },
      "source": [
        "\n",
        "a = 15\n",
        "b = \"25.5\"\n",
        "c = 45.8\n",
        "\n",
        "d = \"my age : \" + str(a)\n",
        "e = 10 * float(b)\n",
        "f = int(c) / 5\n",
        "\n",
        "print(d)\n",
        "print(e)\n",
        "print(f)"
      ],
      "execution_count": 17,
      "outputs": [
        {
          "output_type": "stream",
          "text": [
            "my age : 15\n",
            "255.0\n",
            "9.0\n"
          ],
          "name": "stdout"
        }
      ]
    },
    {
      "cell_type": "markdown",
      "metadata": {
        "id": "ix-Ra7TWWzzl"
      },
      "source": [
        "# 4. รับค่าตัวแปรจากคียบอร์ดด้วย input function"
      ]
    },
    {
      "cell_type": "code",
      "metadata": {
        "trusted": true,
        "id": "1uxhcXtVWzzl"
      },
      "source": [
        "print('What is your name?')\n",
        "name = input() \n",
        "print('Hi ' + name + '!')"
      ],
      "execution_count": null,
      "outputs": []
    },
    {
      "cell_type": "markdown",
      "metadata": {
        "id": "6s471ytoWzzm"
      },
      "source": [
        "## 4.1 รับค่าตัวแปรจากคีย์บอร์ดแล้วแปลงเป็นตัวเลขจำนวนเต็มทันที (integer)\n",
        "*** จะเกิดข้อผิดพลาด (error) เมื่อผู้ใช้งานไม่ได้กรอกค่าตัวเลข ***"
      ]
    },
    {
      "cell_type": "code",
      "metadata": {
        "trusted": true,
        "id": "ARyhyOzAWzzm",
        "colab": {
          "base_uri": "https://localhost:8080/"
        },
        "outputId": "858a56b5-9b08-4c3f-f705-f4cd065399fc"
      },
      "source": [
        "age=int(input(\"What is your age?\"))\n",
        "print (age*365)"
      ],
      "execution_count": 21,
      "outputs": [
        {
          "output_type": "stream",
          "text": [
            "What is your age?18\n",
            "6570\n"
          ],
          "name": "stdout"
        }
      ]
    },
    {
      "cell_type": "markdown",
      "metadata": {
        "id": "haHMzisEWzzm"
      },
      "source": [
        "## 4.2 รับค่าตัวแปรจากคีย์บอร์ดแล้วแปลงเป็นตัวเลขจำนวนเต็มทันที (integer)\n",
        "*** ใช้คำสั่ง Try ... except.. เพื่อป้องกันข้อผิดพลาดในกรณีที่ผู้ใช้งานไม่ได้กรอกตัวเลข แต่ให้แสดงข้อความว่า \"กรุณากรอกเป็นตัวเลขเท่านั้น\" ***"
      ]
    },
    {
      "cell_type": "code",
      "metadata": {
        "trusted": true,
        "id": "82wXpdFKWzzm",
        "colab": {
          "base_uri": "https://localhost:8080/"
        },
        "outputId": "31b6c564-196d-48f7-f6d3-90c164ee438b"
      },
      "source": [
        "try:\n",
        "    value=int(input(\"Type a number:\"))\n",
        "    print(\"value : \" + str(value))\n",
        "except ValueError:\n",
        "    print(\"กรุณากรอกเป็นตัวเลขเท่านั้น\")"
      ],
      "execution_count": 22,
      "outputs": [
        {
          "output_type": "stream",
          "text": [
            "Type a number:h\n",
            "กรุณากรอกเป็นตัวเลขเท่านั้น\n"
          ],
          "name": "stdout"
        }
      ]
    },
    {
      "cell_type": "markdown",
      "metadata": {
        "id": "-kkGmD-PWzzn"
      },
      "source": [
        "# Exercise 1 \n",
        "\n",
        "รับค่าตัวแปรเลขจำนวนเต็ม a และ b แล้วนำมารวมกัน"
      ]
    },
    {
      "cell_type": "code",
      "metadata": {
        "trusted": true,
        "id": "Ql0hlP2UWzzn",
        "colab": {
          "base_uri": "https://localhost:8080/"
        },
        "outputId": "00b72550-a8f5-4e79-f43b-8d37ca5cd169"
      },
      "source": [
        "try :\n",
        "  a = int(input(\"a = \")) #ใช้ int เนื่องจากโจทย์บังคับให้เป็นจำนวนเต็ม\n",
        "  b = int(input(\"b = \"))\n",
        "  ans = a+b\n",
        "  print(\"answer = \" , ans)\n",
        "except ValueError :\n",
        "  print(\"โปรดใส่ตัวเลขเท่านั้น\")"
      ],
      "execution_count": 29,
      "outputs": [
        {
          "output_type": "stream",
          "text": [
            "a = 15\n",
            "b = 29\n",
            "answer =  44\n"
          ],
          "name": "stdout"
        }
      ]
    },
    {
      "cell_type": "markdown",
      "metadata": {
        "id": "5rzRlxZIWzzn"
      },
      "source": [
        "# Exercise 2\n",
        "เขียนโปรแกรมหาพื้นที่สี่เหลี่ยม โดยรับค่าจำนวนทศนิยมเป็นค่าความกว้าง (Width) และความสูง (Height) แล้วแสดงผลลัพธ์"
      ]
    },
    {
      "cell_type": "code",
      "metadata": {
        "trusted": true,
        "id": "fhURlKcmWzzn",
        "colab": {
          "base_uri": "https://localhost:8080/"
        },
        "outputId": "20b8a99a-e990-4779-9e3b-7f82a5ba73c5"
      },
      "source": [
        "try :\n",
        "  Width = float(input(\"Width = \"))#ใช้ float เนื่องจากโจทย์บังคับให้เป็นจำนวนเต็ม\n",
        "  Height = float(input(\"Height = \"))\n",
        "  Area = Width * Height\n",
        "  print(\"Area = \" , Area)\n",
        "except ValueError :\n",
        "  print(\"โปรดใส่ตัวเลขเท่านั้น\")"
      ],
      "execution_count": 31,
      "outputs": [
        {
          "output_type": "stream",
          "text": [
            "Width = 5\n",
            "Height = 15\n",
            "Area =  75.0\n"
          ],
          "name": "stdout"
        }
      ]
    },
    {
      "cell_type": "markdown",
      "metadata": {
        "id": "4eGHOm1144ZR"
      },
      "source": [
        "## Exercise 3\n",
        "เขียนโปรแกรมอัตราสิ้นเปลืองเชื้อเพลิงของรถยนต์ ให้กรอกระยะทางเป็นกิโลเมตร(distance) และจำนวนลิตรที่ใช้ในการเดินทาง (litre) แล้ว\n",
        "แสดงอัตราสิ้นเปลืองหน่วยกิโลเมตรต่อลิตร (comsume)\n"
      ]
    },
    {
      "cell_type": "code",
      "metadata": {
        "trusted": true,
        "id": "67vTTPCHWzzo",
        "colab": {
          "base_uri": "https://localhost:8080/"
        },
        "outputId": "e9a11d5c-b369-4cd0-d496-3f4a45b59269"
      },
      "source": [
        "try :\n",
        "  distance = float(input(\"ระยะทางที่เดินทาง(กิโลเมตร) = \"))#ใช้ float เนื่องจากระยะทางและจำนวนลิตรของน้ำมันอาจจะมีเศษ\n",
        "  litre = float(input(\"จำนวนน้ำมันที่ใช้ในการเดินทางทั้งหมด(ลิตร) = \"))\n",
        "  consume = distance/litre\n",
        "  print(\"อัตราสิ้นเปลือง = \" , consume , \"กิโลเมตรต่อลิตร\")\n",
        "except ValueError :\n",
        "  print(\"โปรดใส่ตัวเลขเท่านั้น\")\n"
      ],
      "execution_count": 37,
      "outputs": [
        {
          "output_type": "stream",
          "text": [
            "ระยะทางที่เดินทาง(กิโลเมตร) = 150\n",
            "จำนวนน้ำมันที่ใช้ในการเดินทางทั้งหมด(ลิตร) = 25\n",
            "อัตราสิ้นเปลือง =  6.0 กิโลเมตรต่อลิตร\n"
          ],
          "name": "stdout"
        }
      ]
    },
    {
      "cell_type": "markdown",
      "metadata": {
        "id": "D616TcmqWzzn"
      },
      "source": [
        "## Exercise 4\n",
        "เขียนโปรแกรมทอนเงินจากการขายสินค้า โดยกำหนดให้สินค้าชิ้นละ 250 บาท ให้กรอกจำนวนชิ้นสินค้า (items) และจำนวนเงินที่ลูกค้าจ่าย (Money) แล้ว\n",
        "แสดงจำนวนเงินที่ทอน (changes)\n"
      ]
    },
    {
      "cell_type": "code",
      "metadata": {
        "id": "27iem26E5lUk",
        "colab": {
          "base_uri": "https://localhost:8080/"
        },
        "outputId": "2ecbb19a-4597-48d5-d630-27d0cb9bfbaf"
      },
      "source": [
        "try :\n",
        "  price = int(250)\n",
        "  items = int(input(\"โปรดกรอกจำนวนที่ต้องการ : \"))#จำนวนของที่ต้องการไม่สามารถเป็นเศษได้จึงใช้ int\n",
        "  Money = float(input(\"จำนวนเงินที่จ่าย : \" ,))#อาจมีการจ่ายแบบเป็นเศษเงินจึงใช้ float\n",
        "  changes = Money - (price * items)\n",
        "  print(\"เงินทอน = \" , changes , \"บาท\")\n",
        "except ValueError :\n",
        "  print (\"โปรดใส่ตัวเลขเท่านั้น\")"
      ],
      "execution_count": 35,
      "outputs": [
        {
          "output_type": "stream",
          "text": [
            "โปรดกรอกจำนวนที่ต้องการ : 5\n",
            "จำนวนเงินที่จ่าย : 1500\n",
            "เงินทอน =  250.0 บาท\n"
          ],
          "name": "stdout"
        }
      ]
    }
  ]
}