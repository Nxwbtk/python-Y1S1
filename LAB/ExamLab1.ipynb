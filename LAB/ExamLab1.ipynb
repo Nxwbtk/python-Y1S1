{
  "nbformat": 4,
  "nbformat_minor": 0,
  "metadata": {
    "colab": {
      "name": "ExamLab1.ipynb",
      "provenance": []
    },
    "kernelspec": {
      "name": "python3",
      "display_name": "Python 3"
    },
    "language_info": {
      "name": "python"
    }
  },
  "cells": [
    {
      "cell_type": "markdown",
      "metadata": {
        "id": "0H-dEk3evQ9i"
      },
      "source": [
        "จงเขียนโปรแกรมค้นหาคำในข้อความ โดยที่รับข้อความ String \n",
        "\n",
        "และคำที่ค้นหาจากคีย์บอร์ดแล้วแสดงผลลัพธ์ของการค้นหาดังนี้\n",
        "\n",
        "•\tช่วงตำแหน่งตัวอักษรของคำที่ค้นได้ \n",
        "\n",
        "•\tจำนวนคำที่ค้นได้ \n"
      ]
    },
    {
      "cell_type": "code",
      "metadata": {
        "id": "WMDM0bGpvQdO",
        "colab": {
          "base_uri": "https://localhost:8080/"
        },
        "outputId": "24900050-6b7a-472a-b7b7-32d1771fe73f"
      },
      "source": [
        "string1 = input(\"Enter String : \")\n",
        "keyword = input(\"Keyword : \")\n",
        "\n",
        "start = string1.find(keyword)\n",
        "previous = 0\n",
        "count = 0\n",
        "\n",
        "strpos = \"\"\n",
        "while start>=0 :\n",
        "  end = start + len(keyword)\n",
        "  sub = string1[start:end]\n",
        "\n",
        "  if sub==keyword:\n",
        "    if previous==0:\n",
        "      strpos+=str(previous + start)+\"-\"+str(previous + end - 1)\n",
        "    else :\n",
        "      strpos+=\",\" + str(previous + start)+\"-\"+str(previous + end - 1)\n",
        "    count+=1\n",
        "  string1 = string1[end:]\n",
        "  start = string1.find(keyword)\n",
        "  previous = end\n",
        "\n",
        "print(\"The list of found word : \",strpos)\n",
        "print(\"The number of found keyword : \",count)"
      ],
      "execution_count": 12,
      "outputs": [
        {
          "output_type": "stream",
          "text": [
            "Enter String : I am an american\n",
            "Keyword : am\n",
            "The list of found word :  2-3,8-9\n",
            "The number of found keyword :  2\n"
          ],
          "name": "stdout"
        }
      ]
    },
    {
      "cell_type": "markdown",
      "metadata": {
        "id": "K94xHBXpvmz9"
      },
      "source": [
        "จงเขียนโปรแกรมจงเขียนโปรแกรมแยกข้อความ โดยที่รับข้อความ String \n",
        "\n",
        "และคำที่ค้นหาจากคีย์บอร์ดแล้วแสดงผลลัพธ์ของการค้นหาดังนี้\n",
        "\n",
        "•\tแยกการแสดงตัวอักษรและตัวเลขที่อยู่ในข้อความ\n",
        "\n",
        "•\tแสดงความยาวของตัวอักษรและตัวเลขทีได้\n",
        "\n",
        "•\tแปลงตัวเลขเป็นตัวอักษร โดยตัวเลข 0 ให้เป็นตัวอักษร “A” และไล่ตามลำดับ\n",
        "\n"
      ]
    },
    {
      "cell_type": "code",
      "metadata": {
        "id": "Bbhj2KzHvzjh"
      },
      "source": [
        "string1 = input(\"Enter String : \")\n",
        "alpha = \"\"\n",
        "number = \"\"\n",
        "for ch in string1 :\n",
        "  if ch.isalpha():\n",
        "    alpha+=ch\n",
        "  elif ch.isnumeric():\n",
        "    number+=ch\n",
        "converted = \"\"\n",
        "for num in number :\n",
        "  code = ord(\"A\")+int(num)\n",
        "  converted += chr(code)\n",
        "\n",
        "print(\"List of characters : \",alpha)\n",
        "print(\"List of numbers : \",number)\n",
        "print(\"Replaced Characters : \",converted)"
      ],
      "execution_count": null,
      "outputs": []
    },
    {
      "cell_type": "markdown",
      "metadata": {
        "id": "K8WFmNlm95pW"
      },
      "source": [
        "## For and While Loop"
      ]
    },
    {
      "cell_type": "markdown",
      "metadata": {
        "id": "0nbZRdP1v4jq"
      },
      "source": [
        "จงเขียนโปรแกรมรับคะแนนของนิสิตจำนวน 10 คน"
      ]
    },
    {
      "cell_type": "code",
      "metadata": {
        "id": "cmJnszBI9A_4",
        "colab": {
          "base_uri": "https://localhost:8080/"
        },
        "outputId": "ec66df2b-1d46-402c-8448-d8644fbdef45"
      },
      "source": [
        "for i in range(1,11):\n",
        "  score = int(input(\"Enter score #%d: \"%i))"
      ],
      "execution_count": 17,
      "outputs": [
        {
          "output_type": "stream",
          "text": [
            "Enter score #1: 10\n",
            "Enter score #2: 20\n",
            "Enter score #3: 30\n",
            "Enter score #4: 40\n",
            "Enter score #5: 50\n",
            "Enter score #6: 60\n",
            "Enter score #7: 70\n",
            "Enter score #8: 80\n",
            "Enter score #9: 90\n",
            "Enter score #10: 100\n"
          ],
          "name": "stdout"
        }
      ]
    },
    {
      "cell_type": "markdown",
      "metadata": {
        "id": "jXgjb6It9O50"
      },
      "source": [
        "จงเขียนโปรแกรมระบุจำนวนนิสิตที่ต้องการกรอกคะแนนและให้นิสิตแต่ละคนกรอกคะแนน"
      ]
    },
    {
      "cell_type": "code",
      "metadata": {
        "id": "4pWKw_fp9xW4",
        "colab": {
          "base_uri": "https://localhost:8080/"
        },
        "outputId": "c097eafb-105c-45e9-b5b3-be1e7159aab4"
      },
      "source": [
        "num = int(input(\"Enter number of students : \"))\n",
        "for i in range(num):\n",
        "  score = int(input(\"Enter Score : \"))"
      ],
      "execution_count": 18,
      "outputs": [
        {
          "output_type": "stream",
          "text": [
            "Enter number of students : 3\n",
            "Enter Score : 1\n",
            "Enter Score : 2\n",
            "Enter Score : 3\n"
          ],
          "name": "stdout"
        }
      ]
    },
    {
      "cell_type": "markdown",
      "metadata": {
        "id": "Eevud5gn9Cfn"
      },
      "source": [
        "จงเขียนโปรแกรมรับยอดขายกี่ครั้งก็ได้จนกระทั่งกรอกยอดขายเป็นศูนย์"
      ]
    },
    {
      "cell_type": "code",
      "metadata": {
        "id": "MuvcX0-h9Kb0"
      },
      "source": [
        "while True :\n",
        "  amount = float(input(\"Enter Amount : \"))\n",
        "  if amount<=0:\n",
        "    break"
      ],
      "execution_count": null,
      "outputs": []
    },
    {
      "cell_type": "markdown",
      "metadata": {
        "id": "OAF1eClMloJe"
      },
      "source": [
        "จงเขียนโปรแกรมรับจำนวนนิสิตที่เข้าลงทะเบียน แล้วจัดให้เข้าห้องประชุม\n",
        "1. ห้องประชุมใหญ่ รับได้ 500 คน\n",
        "2. ห้องประชุมเล็ก รับได้ 100 คน\n",
        "\n",
        "จะต้องใช้ห้องประชุมใหญ่กี่ห้อง และ ห้องประชุมเล็กกี่ห้อง"
      ]
    },
    {
      "cell_type": "code",
      "metadata": {
        "id": "bwD-dckFlncN",
        "colab": {
          "base_uri": "https://localhost:8080/"
        },
        "outputId": "68ec4822-3078-4b26-8aef-fe99199bb44e"
      },
      "source": [
        "students = int(input(\"Enter number of students : \"))\n",
        "\n",
        "large = students//500\n",
        "remain = students%500\n",
        "\n",
        "small = remain//100\n",
        "remain = remain%100\n",
        "if remain>0:\n",
        "  small+=1\n",
        "print(large,small,remain)"
      ],
      "execution_count": 23,
      "outputs": [
        {
          "output_type": "stream",
          "text": [
            "Enter number of students : 1750\n",
            "3 3 50\n"
          ],
          "name": "stdout"
        }
      ]
    }
  ]
}