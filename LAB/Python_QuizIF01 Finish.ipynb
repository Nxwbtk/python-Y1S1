{
  "nbformat": 4,
  "nbformat_minor": 0,
  "metadata": {
    "colab": {
      "name": "Python_QuizIF01.ipynb",
      "provenance": [],
      "collapsed_sections": []
    },
    "kernelspec": {
      "name": "python3",
      "display_name": "Python 3"
    },
    "language_info": {
      "name": "python"
    }
  },
  "cells": [
    {
      "cell_type": "markdown",
      "metadata": {
        "id": "dGbS6e9LDMME"
      },
      "source": [
        "1.\tกำหนดให้นิสิตสร้างตัวแปรรับค่าอุณหภูมิเป็นองศาเซสเซียส (C) จากคีย์บอร์ด เป็น\n",
        "\n",
        "\n",
        "- แปลงหน่วยองศาเซลเซียสเป็นองศาฟาเรนไฮต์ (F)     โดยมีสูตรเท่ากับ F = 9/5(C) + 32\n",
        "\n",
        "-   แปลงหน่วยองศาเซลเซียสเป็นองศาเคลวิน (K) โดยมีสูตรเท่ากับ K = C+273\n",
        "\n",
        "จงเขียนโปรแกรมคำนวณหาค่าอุณหภูมิเคลวินและฟาเรนไฮต์\n",
        "\n"
      ]
    },
    {
      "cell_type": "code",
      "metadata": {
        "id": "F3WJh4i9EUxF",
        "colab": {
          "base_uri": "https://localhost:8080/"
        },
        "outputId": "e9d4770c-6f92-4a6d-f4e8-09d8a67c39bb"
      },
      "source": [
        "try:\n",
        "  C = float(input(\"อุณหภูมิที่ต้องการแปลง (C): \"))\n",
        "\n",
        "  F = 9/5*(C)+32\n",
        "  K = C+273\n",
        "  print(C,\"องศาเซลเซียส มีค่าเท่ากับ\",F,\"องศาฟาเรนไฮต์\")\n",
        "  print(C,\"องศาเซลเซียส มีค่าเท่ากับ\",K,\"องศาเคลวิน\")\n",
        "except ValueError:\n",
        "  print(\"โปรดกรอกให้ถูกต้อง!\")"
      ],
      "execution_count": 8,
      "outputs": [
        {
          "output_type": "stream",
          "text": [
            "อุณหภูมิที่ต้องการแปลง (C): 33\n",
            "33.0 องศาเซลเซียส มีค่าเท่ากับ 91.4 องศาฟาเรนไฮต์\n",
            "33.0 องศาเซลเซียส มีค่าเท่ากับ 306.0 องศาเคลวิน\n"
          ],
          "name": "stdout"
        }
      ]
    },
    {
      "cell_type": "markdown",
      "metadata": {
        "id": "jXxSa3eVEGHS"
      },
      "source": [
        "2.\tกำหนดให้นิสิตสร้างตัวแปรรับค่าพื้นที่เป็นหน่วยตารางเมตร (Square of Meters) จากคีย์บอร์ด เป็น\n",
        "\n",
        "- \tแปลงหน่วยตารางเมตรเป็นไร่ (Rai)     โดยมีสูตรเท่ากับ 1 Rai = 1600 Square of Meters\n",
        "\n",
        "- \tแปลงหน่วยไร่ (Rai) เป็นเอเคอร์ (Acre) โดยมีสูตรเท่ากับ 1 Acre = 2.471 Rai\n",
        "\n",
        "จงเขียนโปรแกรมที่แสดงคำนวณหาค่าพื้นที่ไร่และเอเคอร์จากค่าหน่วยตารางเมตร\n"
      ]
    },
    {
      "cell_type": "code",
      "metadata": {
        "id": "rFW6KxsKD6yW",
        "colab": {
          "base_uri": "https://localhost:8080/"
        },
        "outputId": "e120727f-860d-4eab-e41c-65dd4c52712e"
      },
      "source": [
        "try:\n",
        "  Square = int(input(\"Area (Square of Meters) : \"))\n",
        "\n",
        "  Rai = Square/1600\n",
        "  Acre = Rai/2.471\n",
        "\n",
        "  print(Square , \" Square of Meters = \" , Rai , \" Rai\")\n",
        "  print(Square , \" Square of Meters = %.3f Acre\"%(Acre))\n",
        "except ValueError :\n",
        "  print(\"Plaese Enter Number only!\")"
      ],
      "execution_count": 35,
      "outputs": [
        {
          "output_type": "stream",
          "text": [
            "Area (Square of Meters) : 7500\n",
            "7500  Square of Meters =  4.6875  Rai\n",
            "7500  Square of Meters = 1.897 Acre\n"
          ],
          "name": "stdout"
        }
      ]
    },
    {
      "cell_type": "markdown",
      "metadata": {
        "id": "EvB3HezmCK9z"
      },
      "source": [
        "3.\tกำหนดให้นิสิตสร้างตัวแปรรับค่าคีย์บอร์ด 2 ตัวแปรได้แก่\n",
        "\n",
        "\n",
        "- รับจำนวนเงินที่ลูกค้าแลกเงินบาทไทยเป็นเงินตราต่างประเทศ  (Baht) เป็นแบบ float\n",
        "\n",
        "-   รับค่าว่าจะแลกเป็นเงินตราต่างประเทศ (Foreign) เป็นแบบข้อความ (String) ที่มีค่าดังต่อไปนี้   \n",
        "\n",
        "> > •\tเป็นเงินดอลล่าร์สหรัฐอเมริการเท่ากับ \"USD\" \n",
        "\n",
        "> > •\tเป็นเงินยูโรเท่ากับ \"EURO\"\n",
        "\n",
        "> > •\tเป็นเงินเยนญี่ปุ่นเท่ากับ \"YEN\"\n",
        "\n",
        "\n",
        "จงเขียนโปรแกรมคำนวณหาจำนวนเงินต่างประเทศที่สามารถแลกเปลี่ยนได้ (Money) \n",
        "\n",
        "กำหนดให้อัตราแลกเปลี่ยนดังนี้\n",
        "\n",
        "> > •\t1 USD เท่ากับ 31 บาทไทย\n",
        "\n",
        "> > •\t1 EURO เท่ากับ 36.5 บาทไทย\n",
        "\n",
        "> > •\t100 YEN เท่ากับ 29 บาทไทย\n"
      ]
    },
    {
      "cell_type": "code",
      "metadata": {
        "id": "G2fzMfUGEQzl",
        "colab": {
          "base_uri": "https://localhost:8080/"
        },
        "outputId": "fadd4096-2e69-4a64-de5f-798a262b7e38"
      },
      "source": [
        "try:\n",
        "  Baht = float(input(\"Enter Money Baht : \"))\n",
        "  Foreign = input(\"Enter Foreign Currency : \")\n",
        "  USD = Baht/31\n",
        "  EURO = Baht/36.5\n",
        "  YEN = Baht/0.29\n",
        "\n",
        "  if Foreign.upper()==\"USD\":\n",
        "    print(Baht ,\"Baht =  %.2f USD\"%USD)\n",
        "  elif Foreign.upper()==\"EURO\":\n",
        "    print(Baht,\"Baht = %.2f EURO\"%EURO)\n",
        "  elif Foreign.upper()==\"YEN\":\n",
        "    print(Baht,\"Baht = %.2f YEN\"%YEN)\n",
        "  else :\n",
        "    print (\"We don't have this currency please try again.\")\n",
        "except ValueError :\n",
        "  print(\"Please enter number only!\")\n"
      ],
      "execution_count": 65,
      "outputs": [
        {
          "output_type": "stream",
          "text": [
            "Enter Money Baht : 1000\n",
            "Enter Foreign Currency : USD\n",
            "1000.0 Baht =  32.26 USD\n"
          ],
          "name": "stdout"
        }
      ]
    },
    {
      "cell_type": "markdown",
      "metadata": {
        "id": "rSJdSbPcEhQn"
      },
      "source": [
        "4.\tกำหนดให้นิสิตสร้างตัวแปรรับค่าคีย์บอร์ด 2 ตัวแปรได้แก่\n",
        "\n",
        "- รับจำนวนเงินที่ลูกค้าต้องการซื้อ  (Money) เป็นแบบ integer\n",
        "\n",
        "- รับค่าว่าลูกค้าจะซื้อหุ้นของบริษัท (Company) เป็นแบบข้อความ (String) ที่มีค่าดังต่อไปนี้\n",
        "\n",
        "> > เป็นบริษัทค่ายมือถือเท่ากับ \"ADVANC\" \n",
        "\n",
        "> >\tเป็นบริษัทบริหารสนามบินเท่ากับ \"AOT\"\n",
        "\n",
        "> > เป็นธนาคารพาณิชย์เท่ากับ \"BBL\"\n",
        "\n",
        "จงเขียนโปรแกรมและ Flowchart ที่แสดงคำนวณหาจำนวนหุ้นที่ได้ (Stocks) กำหนดให้ราคาขายต่อหุ้นดังนี้\n",
        "\n",
        "> > 1 หุ้นของ ADVANC เท่ากับ 190 บาท\n",
        "\n",
        "> > 1 หุ้นของ AOT เท่ากับ 48.5 บาท\n",
        "\n",
        "> >\t1 หุ้นของ BBL เท่ากับ 100 บาท\n",
        "\n"
      ]
    },
    {
      "cell_type": "code",
      "metadata": {
        "id": "xvFAlv7dFWZC",
        "colab": {
          "base_uri": "https://localhost:8080/"
        },
        "outputId": "595d4463-39a3-40c6-8ca8-adce438313de"
      },
      "source": [
        "try:\n",
        "  Money = int(input(\"Enter Money (baht): \"))\n",
        "  Company = input(\"Enter Company : \")\n",
        "  ADVANC = Money/190\n",
        "  AOT = Money/48.5\n",
        "  BBL = Money/100\n",
        "\n",
        "  if Company.upper()==\"ADVANC\":\n",
        "    print(Money,\" Baht = %.3f ADVANC Stock\"%ADVANC)\n",
        "  elif Company.upper()==\"AOT\":\n",
        "    print(Money, \" Baht = %.3f AOT Stock\"%AOT)\n",
        "  elif Company.upper()==\"BBL\":\n",
        "    print(Money, \" Baht = %.3f BBL Stock\"%BBL)\n",
        "  else :\n",
        "    print(\"We don't have this company please try again.\")\n",
        "\n",
        "except ValueError:\n",
        "  print(\"Please enter number only.\")"
      ],
      "execution_count": 68,
      "outputs": [
        {
          "output_type": "stream",
          "text": [
            "Enter Money (baht): 1000\n",
            "Enter Company : bbl\n",
            "1000  Baht = 10.000 BBL Stock\n"
          ],
          "name": "stdout"
        }
      ]
    }
  ]
}