{
  "cells": [
    {
      "cell_type": "markdown",
      "metadata": {
        "id": "p6J1qYO4c7Mp"
      },
      "source": [
        "##แบบฝึกหัด"
      ]
    },
    {
      "cell_type": "markdown",
      "metadata": {
        "id": "d6l6C4_xdBC3"
      },
      "source": [
        "1. ตารางสูตรผลแม่คูณจาก 1 ... 12 โดยรับค่าตัวเลขแม่คูณจากคีย์บอร์ด \n",
        "ตัวอย่าง\n",
        "\n",
        "Enter Number : 2\n",
        "\n",
        "2 x 1 = 2\n",
        "\n",
        "2 x 2 = 4\n",
        "\n",
        ".\n",
        "\n",
        "2 x 12 = 24\n"
      ]
    },
    {
      "cell_type": "code",
      "execution_count": 7,
      "metadata": {
        "colab": {
          "base_uri": "https://localhost:8080/"
        },
        "id": "eWYq4w1Hc6pN",
        "outputId": "dd4ceeb9-307d-4e40-85e8-15b6999d6187"
      },
      "outputs": [
        {
          "name": "stdout",
          "output_type": "stream",
          "text": [
            "เลข : 1\n",
            "1 x 1 = 1\n",
            "1 x 2 = 1\n",
            "1 x 3 = 1\n",
            "1 x 4 = 1\n",
            "1 x 5 = 1\n",
            "1 x 6 = 1\n",
            "1 x 7 = 1\n",
            "1 x 8 = 1\n",
            "1 x 9 = 1\n",
            "1 x 10 = 1\n",
            "1 x 11 = 1\n",
            "1 x 12 = 1\n",
            "จบโปรแกรม\n"
          ]
        }
      ],
      "source": [
        "try :\n",
        "    Multiple = int(input(\"เลข : \"))\n",
        "    i = 1\n",
        "    result = Multiple*i\n",
        "    while i<13:\n",
        "        print(\"%d x %d = %d\"%(Multiple,i,result))\n",
        "        i+=1\n",
        "    print(\"จบโปรแกรม\")\n",
        "except ValueError:\n",
        "    print(\"เลขเท่านั้น\")"
      ]
    },
    {
      "cell_type": "markdown",
      "metadata": {
        "id": "g1a0x8UNdKkI"
      },
      "source": [
        "2. จงเขียนโปรแกรมรับค่าคะแนนนิสิตกี่คนก็ได้จนกระทั่งใส่คะแนนติดลบ และคำนวณผลรวมและค่าเฉลี่ยของคะแนนนิสิตทั้งหมด\n",
        "ตัวอย่าง\n",
        "\n",
        "Enter Score #1 : 70\n",
        "\n",
        "Enter Score #2 : 85\n",
        "\n",
        "Enter Score #3 : 63\n",
        "\n",
        ".\n",
        "\n",
        "Enter Score #16 : -1\n",
        "\n",
        "Sum of Score : 1125\n",
        "\n",
        "Average Score : 75\n"
      ]
    },
    {
      "cell_type": "code",
      "execution_count": 12,
      "metadata": {
        "colab": {
          "base_uri": "https://localhost:8080/"
        },
        "id": "wpEtvgJHdUli",
        "outputId": "ca7f8048-b661-4056-b01e-c4246009eb11"
      },
      "outputs": [
        {
          "name": "stdout",
          "output_type": "stream",
          "text": [
            "Score # 1 : 1\n",
            "Score # 2 : 2\n",
            "Score # 3 : 3\n",
            "Score # 4 : 4\n",
            "Score # 5 : 5\n",
            "Score # 6 : 6\n",
            "Score # 7 : -1\n",
            "Summary = 21\n",
            "Average = 3.00\n"
          ]
        }
      ],
      "source": [
        "try:\n",
        "    Score = 1\n",
        "    Sum = 0\n",
        "    Count = 1\n",
        "    while Score>0:\n",
        "        Score = int(input(\"Score # %d : \"%Count ))\n",
        "        if Score<=0:\n",
        "          break\n",
        "        Sum+=Score\n",
        "        Count+=1\n",
        "    Avg = Sum/Count\n",
        "    print(\"Summary = %d\"%Sum)\n",
        "    print(\"Average = %.2f\"%Avg)\n",
        "except ValueError:\n",
        "    print(\"Enter number only!\")"
      ]
    },
    {
      "cell_type": "markdown",
      "metadata": {
        "id": "3HEabOIXdXXc"
      },
      "source": [
        "3. จงเขียนโปรแกรมทายตัวเลขสุ่มที่สร้างจากเครื่องคอมพิวเตอร์ในช่วง 0 ถึง 9 โดยกำหนดให้ทายจนกระทั่งทายถูก แล้วแสดงจำนวนครั้งที่ทายไป\n",
        "ตัวอย่าง\n",
        "\n",
        "Enter Number  : 7\n",
        "\n",
        "You are wrong !!!\n",
        "\n",
        "Enter Number  : 8\n",
        "\n",
        "Your are wrong !!!\n",
        "\n",
        "Enter Score : 3\n",
        "\n",
        "Your are right !!!\n",
        "\n",
        "The number of trial is 5"
      ]
    },
    {
      "cell_type": "code",
      "execution_count": 6,
      "metadata": {
        "colab": {
          "base_uri": "https://localhost:8080/"
        },
        "id": "IwC5bTphdiP4",
        "outputId": "e7baf227-a93c-4371-bdef-24b1bb740a23"
      },
      "outputs": [
        {
          "name": "stdout",
          "output_type": "stream",
          "text": [
            "Guess the number : 1\n",
            "Wrong! Try again.\n",
            "Guess the number : 2\n",
            "Correct! The random number is  2\n",
            "Count of trial is  2\n"
          ]
        }
      ],
      "source": [
        "from numpy import random\n",
        "rd = random.randint(10)\n",
        "try:\n",
        "  count = 0\n",
        "  while True:\n",
        "    guess = int(input(\"Guess the number : \"))\n",
        "    count+=1\n",
        "    if guess!=rd:\n",
        "      print(\"Wrong! Try again.\")\n",
        "    elif guess==rd:\n",
        "      print(\"Correct! The random number is \",rd)\n",
        "      break\n",
        "  print(\"Count of trial is \",count)\n",
        "except ValueError:\n",
        "  print(\"Enter number only!\")\n"
      ]
    },
    {
      "cell_type": "code",
      "execution_count": null,
      "metadata": {
        "id": "ZvmFc5pcvqst"
      },
      "outputs": [],
      "source": []
    }
  ],
  "metadata": {
    "colab": {
      "name": "WhileLoop_Exercise.ipynb",
      "provenance": []
    },
    "interpreter": {
      "hash": "63fd5069d213b44bf678585dea6b12cceca9941eaf7f819626cde1f2670de90d"
    },
    "kernelspec": {
      "display_name": "Python 3.9.6 64-bit",
      "name": "python3"
    },
    "language_info": {
      "name": "python",
      "version": "3.9.6"
    }
  },
  "nbformat": 4,
  "nbformat_minor": 0
}
