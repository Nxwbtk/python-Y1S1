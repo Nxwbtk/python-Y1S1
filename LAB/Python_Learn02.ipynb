{
  "nbformat": 4,
  "nbformat_minor": 0,
  "metadata": {
    "kernelspec": {
      "name": "python3",
      "display_name": "Python 3",
      "language": "python"
    },
    "language_info": {
      "mimetype": "text/x-python",
      "nbconvert_exporter": "python",
      "name": "python",
      "file_extension": ".py",
      "version": "3.5.4",
      "pygments_lexer": "ipython3",
      "codemirror_mode": {
        "version": 3,
        "name": "ipython"
      }
    },
    "colab": {
      "name": "Python_Learn02.ipynb",
      "provenance": [],
      "collapsed_sections": []
    }
  },
  "cells": [
    {
      "cell_type": "markdown",
      "metadata": {
        "collapsed": true,
        "id": "OGn030N0fSMD"
      },
      "source": [
        "# String \n",
        "การเชื่อมต่อข้อความสองข้อความหรือข้อความกับตัวแปร(concatenate string)"
      ]
    },
    {
      "cell_type": "code",
      "metadata": {
        "trusted": true,
        "id": "uX4gS0iYfSMH",
        "colab": {
          "base_uri": "https://localhost:8080/"
        },
        "outputId": "b3d04e6c-89d6-4fb1-d9e0-b9b7f45d3ec0"
      },
      "source": [
        "Hi = ' Hello' \n",
        "Name = \"Chatchai \"\n",
        "Greet = Hi + Name\n",
        "Greeting  = Hi + \" \"  + Name\n",
        "\n",
        "print(Greet)\n",
        "print(Greeting)"
      ],
      "execution_count": 6,
      "outputs": [
        {
          "output_type": "stream",
          "text": [
            " HelloChatchai \n",
            " Hello Chatchai \n"
          ],
          "name": "stdout"
        }
      ]
    },
    {
      "cell_type": "code",
      "metadata": {
        "trusted": true,
        "id": "9hCUrzlMfSMJ",
        "colab": {
          "base_uri": "https://localhost:8080/"
        },
        "outputId": "449e358b-27e7-4cde-e96d-062f39fc361e"
      },
      "source": [
        "Greeting2  = Hi + \" \"  + Name * 3\n",
        "print(Greeting2)"
      ],
      "execution_count": 7,
      "outputs": [
        {
          "output_type": "stream",
          "text": [
            " Hello Chatchai Chatchai Chatchai \n"
          ],
          "name": "stdout"
        }
      ]
    },
    {
      "cell_type": "code",
      "metadata": {
        "trusted": true,
        "id": "ndWQV87WfSMJ",
        "colab": {
          "base_uri": "https://localhost:8080/"
        },
        "outputId": "54ae1626-e48b-4db6-8f27-daea665cba61"
      },
      "source": [
        "Greeting  = \" Hi Bunthakan\" \n",
        "ID = 6430200418\n",
        "Grade = 3.00\n",
        "ShowName = Greeting + \" No. \" + str(ID) + \" Grade: \" +  str(Grade)\n",
        "print (ShowName)\n",
        "\n",
        "print(Greeting,\"No.\",ID,\"Grade:\",Grade)"
      ],
      "execution_count": 9,
      "outputs": [
        {
          "output_type": "stream",
          "text": [
            " Hi Bunthakan No. 6430200418 Grade: 3.0\n",
            " Hi Bunthakan No. 6430200418 Grade: 3.0\n"
          ],
          "name": "stdout"
        }
      ]
    },
    {
      "cell_type": "markdown",
      "metadata": {
        "id": "ycDX133ffSMK"
      },
      "source": [
        "# Print function"
      ]
    },
    {
      "cell_type": "code",
      "metadata": {
        "trusted": true,
        "id": "J8i5CKQpfSMK",
        "colab": {
          "base_uri": "https://localhost:8080/"
        },
        "outputId": "a6cdf742-b156-471e-f4e5-04500f6da59d"
      },
      "source": [
        "name = \"Bunthakan\"\n",
        "x = 4\n",
        "print(x)\n",
        "\n",
        "#ใช้เครื่องหมาย , เป็นตัวเชื่อมข้อความ โดยจะเพิ่มช่องว่างระหว่างคำโดยอัตโนมัติ\n",
        "print(name, \"like\", x, \".\")\n",
        "\n",
        "# ใช้เครื่องหมาย + เป็นตัวเชื่อมข้อความ โดยต้องแปลงค่าตัวแปรชนิดอื่น ๆ ให้เป็นแบบสตริงก่อน\n",
        "x_str = str(x)\n",
        "print(name + \" like \" + x_str + \".\" )\n",
        "\n",
        "\n",
        "print(\"%s like %d. \" %(name,x))"
      ],
      "execution_count": 10,
      "outputs": [
        {
          "output_type": "stream",
          "text": [
            "4\n",
            "Bunthakan like 4 .\n",
            "Bunthakan like 4.\n",
            "Bunthakan like 4. \n"
          ],
          "name": "stdout"
        }
      ]
    },
    {
      "cell_type": "markdown",
      "metadata": {
        "id": "D3YtgFi2fSML"
      },
      "source": [
        "## แบบฝึกหัดที่ 1\n",
        "กำหนดให้มีตัวแปร 4 ตัวแปร ได้แก่\n",
        "1. Name มีค่าเท่ากับชื่อนิสิต\n",
        "2. University มีค่าเท่ากับชื่อมหาวิทยาลัย\n",
        "3. EdYear มีค่าเท่ากับเลขชั้นปี\n",
        "4. Grade มีค่าเท่ากับเกรดเฉลี่ยตอนมัธยมปลายหรือมหาวิทยาลัย\n",
        "\n",
        "ให้แสดงผลแสดงในรูปแบบ\n",
        "    Chatchai is studying at Kasetsart university. \n",
        "    I am 1 year student. \n",
        "    My Grade is 2.75."
      ]
    },
    {
      "cell_type": "code",
      "metadata": {
        "trusted": true,
        "id": "0tizZ6ymfSML",
        "colab": {
          "base_uri": "https://localhost:8080/"
        },
        "outputId": "870f38dd-8ab1-4f34-a06a-51d249ecda87"
      },
      "source": [
        "Name1 =\"Bunthakan\"\n",
        "University = \"Kasetsart university\"\n",
        "EdYear = 1\n",
        "Grade = 3.00\n",
        "\n",
        "print(Name1,\"is studying at\",University,\".\",\"I am\",EdYear,\"year student.\",\"My Grade is\",Grade,\".\")\n",
        "\n",
        "print(\"%s is studying at %s.I am %d year student.My Grade is %d.\" %(Name1,University,EdYear,Grade))"
      ],
      "execution_count": 22,
      "outputs": [
        {
          "output_type": "stream",
          "text": [
            "Bunthakan is studying at Kasetsart university . I am 1 year student. My Grade is 3.0 .\n",
            "Bunthakan is studying at Kasetsart university.I am 1 year student.My Grade is 3.\n"
          ],
          "name": "stdout"
        }
      ]
    },
    {
      "cell_type": "markdown",
      "metadata": {
        "id": "es8wA6nxfnuf"
      },
      "source": [
        "![image.png](data:image/png;base64,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)"
      ]
    },
    {
      "cell_type": "code",
      "metadata": {
        "id": "9zq350lC66lT",
        "colab": {
          "base_uri": "https://localhost:8080/",
          "height": 545
        },
        "outputId": "d4690b50-9ca8-4f09-e636-38ab4ad16671"
      },
      "source": [
        "txtName = input(\"Enter your name : \")\n",
        "chrSearch = input(\"Enter searching character : \")\n",
        "txtFind = input(\"Enter finding string :\")\n",
        "txtReplace = input(\"Enter replace string : \")\n",
        "\n",
        "print(\"Length of txtName: \", len(txtName))\n",
        "print(\"position of chrsearch : \", txtName.index(chrSearch))\n",
        "print(\"count of chrsearch : \", txtName.count(chrSearch))\n",
        "print(\"substring of chrsearch : \", txtName[0:5])\n",
        "\n",
        "print (txtName.upper())\n",
        "print (txtName.lower())\n",
        "print (txtName.find(txtFind))\n",
        "print (txtName.replace(txtFind,txtReplace))\n",
        "print (txtName.split(\" \"))"
      ],
      "execution_count": 31,
      "outputs": [
        {
          "output_type": "stream",
          "text": [
            "Enter your name : Buntha kan\n"
          ],
          "name": "stdout"
        },
        {
          "output_type": "error",
          "ename": "KeyboardInterrupt",
          "evalue": "ignored",
          "traceback": [
            "\u001b[0;31m---------------------------------------------------------------------------\u001b[0m",
            "\u001b[0;31mKeyboardInterrupt\u001b[0m                         Traceback (most recent call last)",
            "\u001b[0;32m/usr/local/lib/python3.7/dist-packages/ipykernel/kernelbase.py\u001b[0m in \u001b[0;36m_input_request\u001b[0;34m(self, prompt, ident, parent, password)\u001b[0m\n\u001b[1;32m    728\u001b[0m             \u001b[0;32mtry\u001b[0m\u001b[0;34m:\u001b[0m\u001b[0;34m\u001b[0m\u001b[0;34m\u001b[0m\u001b[0m\n\u001b[0;32m--> 729\u001b[0;31m                 \u001b[0mident\u001b[0m\u001b[0;34m,\u001b[0m \u001b[0mreply\u001b[0m \u001b[0;34m=\u001b[0m \u001b[0mself\u001b[0m\u001b[0;34m.\u001b[0m\u001b[0msession\u001b[0m\u001b[0;34m.\u001b[0m\u001b[0mrecv\u001b[0m\u001b[0;34m(\u001b[0m\u001b[0mself\u001b[0m\u001b[0;34m.\u001b[0m\u001b[0mstdin_socket\u001b[0m\u001b[0;34m,\u001b[0m \u001b[0;36m0\u001b[0m\u001b[0;34m)\u001b[0m\u001b[0;34m\u001b[0m\u001b[0;34m\u001b[0m\u001b[0m\n\u001b[0m\u001b[1;32m    730\u001b[0m             \u001b[0;32mexcept\u001b[0m \u001b[0mException\u001b[0m\u001b[0;34m:\u001b[0m\u001b[0;34m\u001b[0m\u001b[0;34m\u001b[0m\u001b[0m\n",
            "\u001b[0;32m/usr/local/lib/python3.7/dist-packages/jupyter_client/session.py\u001b[0m in \u001b[0;36mrecv\u001b[0;34m(self, socket, mode, content, copy)\u001b[0m\n\u001b[1;32m    802\u001b[0m         \u001b[0;32mtry\u001b[0m\u001b[0;34m:\u001b[0m\u001b[0;34m\u001b[0m\u001b[0;34m\u001b[0m\u001b[0m\n\u001b[0;32m--> 803\u001b[0;31m             \u001b[0mmsg_list\u001b[0m \u001b[0;34m=\u001b[0m \u001b[0msocket\u001b[0m\u001b[0;34m.\u001b[0m\u001b[0mrecv_multipart\u001b[0m\u001b[0;34m(\u001b[0m\u001b[0mmode\u001b[0m\u001b[0;34m,\u001b[0m \u001b[0mcopy\u001b[0m\u001b[0;34m=\u001b[0m\u001b[0mcopy\u001b[0m\u001b[0;34m)\u001b[0m\u001b[0;34m\u001b[0m\u001b[0;34m\u001b[0m\u001b[0m\n\u001b[0m\u001b[1;32m    804\u001b[0m         \u001b[0;32mexcept\u001b[0m \u001b[0mzmq\u001b[0m\u001b[0;34m.\u001b[0m\u001b[0mZMQError\u001b[0m \u001b[0;32mas\u001b[0m \u001b[0me\u001b[0m\u001b[0;34m:\u001b[0m\u001b[0;34m\u001b[0m\u001b[0;34m\u001b[0m\u001b[0m\n",
            "\u001b[0;32m/usr/local/lib/python3.7/dist-packages/zmq/sugar/socket.py\u001b[0m in \u001b[0;36mrecv_multipart\u001b[0;34m(self, flags, copy, track)\u001b[0m\n\u001b[1;32m    582\u001b[0m         \"\"\"\n\u001b[0;32m--> 583\u001b[0;31m         \u001b[0mparts\u001b[0m \u001b[0;34m=\u001b[0m \u001b[0;34m[\u001b[0m\u001b[0mself\u001b[0m\u001b[0;34m.\u001b[0m\u001b[0mrecv\u001b[0m\u001b[0;34m(\u001b[0m\u001b[0mflags\u001b[0m\u001b[0;34m,\u001b[0m \u001b[0mcopy\u001b[0m\u001b[0;34m=\u001b[0m\u001b[0mcopy\u001b[0m\u001b[0;34m,\u001b[0m \u001b[0mtrack\u001b[0m\u001b[0;34m=\u001b[0m\u001b[0mtrack\u001b[0m\u001b[0;34m)\u001b[0m\u001b[0;34m]\u001b[0m\u001b[0;34m\u001b[0m\u001b[0;34m\u001b[0m\u001b[0m\n\u001b[0m\u001b[1;32m    584\u001b[0m         \u001b[0;31m# have first part already, only loop while more to receive\u001b[0m\u001b[0;34m\u001b[0m\u001b[0;34m\u001b[0m\u001b[0;34m\u001b[0m\u001b[0m\n",
            "\u001b[0;32mzmq/backend/cython/socket.pyx\u001b[0m in \u001b[0;36mzmq.backend.cython.socket.Socket.recv\u001b[0;34m()\u001b[0m\n",
            "\u001b[0;32mzmq/backend/cython/socket.pyx\u001b[0m in \u001b[0;36mzmq.backend.cython.socket.Socket.recv\u001b[0;34m()\u001b[0m\n",
            "\u001b[0;32mzmq/backend/cython/socket.pyx\u001b[0m in \u001b[0;36mzmq.backend.cython.socket._recv_copy\u001b[0;34m()\u001b[0m\n",
            "\u001b[0;32m/usr/local/lib/python3.7/dist-packages/zmq/backend/cython/checkrc.pxd\u001b[0m in \u001b[0;36mzmq.backend.cython.checkrc._check_rc\u001b[0;34m()\u001b[0m\n",
            "\u001b[0;31mKeyboardInterrupt\u001b[0m: ",
            "\nDuring handling of the above exception, another exception occurred:\n",
            "\u001b[0;31mKeyboardInterrupt\u001b[0m                         Traceback (most recent call last)",
            "\u001b[0;32m<ipython-input-31-246ec5234726>\u001b[0m in \u001b[0;36m<module>\u001b[0;34m()\u001b[0m\n\u001b[1;32m      1\u001b[0m \u001b[0mtxtName\u001b[0m \u001b[0;34m=\u001b[0m \u001b[0minput\u001b[0m\u001b[0;34m(\u001b[0m\u001b[0;34m\"Enter your name : \"\u001b[0m\u001b[0;34m)\u001b[0m\u001b[0;34m\u001b[0m\u001b[0;34m\u001b[0m\u001b[0m\n\u001b[0;32m----> 2\u001b[0;31m \u001b[0mchrSearch\u001b[0m \u001b[0;34m=\u001b[0m \u001b[0minput\u001b[0m\u001b[0;34m(\u001b[0m\u001b[0;34m\"Enter searching character : \"\u001b[0m\u001b[0;34m)\u001b[0m\u001b[0;34m\u001b[0m\u001b[0;34m\u001b[0m\u001b[0m\n\u001b[0m\u001b[1;32m      3\u001b[0m \u001b[0mtxtFind\u001b[0m \u001b[0;34m=\u001b[0m \u001b[0minput\u001b[0m\u001b[0;34m(\u001b[0m\u001b[0;34m\"Enter finding string :\"\u001b[0m\u001b[0;34m)\u001b[0m\u001b[0;34m\u001b[0m\u001b[0;34m\u001b[0m\u001b[0m\n\u001b[1;32m      4\u001b[0m \u001b[0mtxtReplace\u001b[0m \u001b[0;34m=\u001b[0m \u001b[0minput\u001b[0m\u001b[0;34m(\u001b[0m\u001b[0;34m\"Enter replace string : \"\u001b[0m\u001b[0;34m)\u001b[0m\u001b[0;34m\u001b[0m\u001b[0;34m\u001b[0m\u001b[0m\n\u001b[1;32m      5\u001b[0m \u001b[0;34m\u001b[0m\u001b[0m\n",
            "\u001b[0;32m/usr/local/lib/python3.7/dist-packages/ipykernel/kernelbase.py\u001b[0m in \u001b[0;36mraw_input\u001b[0;34m(self, prompt)\u001b[0m\n\u001b[1;32m    702\u001b[0m             \u001b[0mself\u001b[0m\u001b[0;34m.\u001b[0m\u001b[0m_parent_ident\u001b[0m\u001b[0;34m,\u001b[0m\u001b[0;34m\u001b[0m\u001b[0;34m\u001b[0m\u001b[0m\n\u001b[1;32m    703\u001b[0m             \u001b[0mself\u001b[0m\u001b[0;34m.\u001b[0m\u001b[0m_parent_header\u001b[0m\u001b[0;34m,\u001b[0m\u001b[0;34m\u001b[0m\u001b[0;34m\u001b[0m\u001b[0m\n\u001b[0;32m--> 704\u001b[0;31m             \u001b[0mpassword\u001b[0m\u001b[0;34m=\u001b[0m\u001b[0;32mFalse\u001b[0m\u001b[0;34m,\u001b[0m\u001b[0;34m\u001b[0m\u001b[0;34m\u001b[0m\u001b[0m\n\u001b[0m\u001b[1;32m    705\u001b[0m         )\n\u001b[1;32m    706\u001b[0m \u001b[0;34m\u001b[0m\u001b[0m\n",
            "\u001b[0;32m/usr/local/lib/python3.7/dist-packages/ipykernel/kernelbase.py\u001b[0m in \u001b[0;36m_input_request\u001b[0;34m(self, prompt, ident, parent, password)\u001b[0m\n\u001b[1;32m    732\u001b[0m             \u001b[0;32mexcept\u001b[0m \u001b[0mKeyboardInterrupt\u001b[0m\u001b[0;34m:\u001b[0m\u001b[0;34m\u001b[0m\u001b[0;34m\u001b[0m\u001b[0m\n\u001b[1;32m    733\u001b[0m                 \u001b[0;31m# re-raise KeyboardInterrupt, to truncate traceback\u001b[0m\u001b[0;34m\u001b[0m\u001b[0;34m\u001b[0m\u001b[0;34m\u001b[0m\u001b[0m\n\u001b[0;32m--> 734\u001b[0;31m                 \u001b[0;32mraise\u001b[0m \u001b[0mKeyboardInterrupt\u001b[0m\u001b[0;34m\u001b[0m\u001b[0;34m\u001b[0m\u001b[0m\n\u001b[0m\u001b[1;32m    735\u001b[0m             \u001b[0;32melse\u001b[0m\u001b[0;34m:\u001b[0m\u001b[0;34m\u001b[0m\u001b[0;34m\u001b[0m\u001b[0m\n\u001b[1;32m    736\u001b[0m                 \u001b[0;32mbreak\u001b[0m\u001b[0;34m\u001b[0m\u001b[0;34m\u001b[0m\u001b[0m\n",
            "\u001b[0;31mKeyboardInterrupt\u001b[0m: "
          ]
        }
      ]
    },
    {
      "cell_type": "markdown",
      "metadata": {
        "id": "29nVHiqgfSMM"
      },
      "source": [
        "# Comparison Operators"
      ]
    },
    {
      "cell_type": "code",
      "metadata": {
        "trusted": true,
        "id": "fZ-V22U6fSMN"
      },
      "source": [
        "try:\n",
        "    a = int(input(\"Input A: \"))\n",
        "    b = int(input(\"Input B: \"))\n",
        "    \n",
        "    result = (a == b)\n",
        "    print (\"a == b : \", result )\n",
        "    \n",
        "    result = (a != b)\n",
        "    print (\"a != b : \", result )\n",
        "    \n",
        "    result = (a > b)\n",
        "    print (\"a > b : \", result )\n",
        "    \n",
        "    result = (a <= b)\n",
        "    print (\"a <= b : \", result )\n",
        "    \n",
        "    \n",
        "except ValueError:\n",
        "\n",
        "    print(\"กรุณากรอกค่าเป็นตัวเลขเท่านั้น\")"
      ],
      "execution_count": null,
      "outputs": []
    },
    {
      "cell_type": "markdown",
      "metadata": {
        "id": "kGMkpdv2fSMN"
      },
      "source": [
        "# แบบฝึกหัดที่ 2\n",
        "\n",
        "กำหนดให้มีตัวแปรจำนวนทศนิยม (float) 3 ตัวแปร  ได้แก่\n",
        "1. ค่าอาหารเช้า (Breakfast) หน่วยเป็นบาท \n",
        "2. ค่าอาหารกลางวัน (Lunch) หน่วยเป็นบาท\n",
        "3. ค่าอาหารเย็น (Dinner) หน่วยเป็นบาท\n",
        "\n",
        "ให้รับค่าดังกล่าวจากคีย์บอร์ด และจงเปรียบเทียบและแสดงค่าความจริงว่า\n",
        "1. ค่าอาหารกลางวันเท่ากับอาหารเย็นหรือไม่\n",
        "2. ค่าอาหารเช้าน้อยกว่าอาหารเย็นหรือไม่\n",
        "3. ค่าอาหารกลางวันมากกว่าหรือเท่ากับอาหารเช้า\n"
      ]
    },
    {
      "cell_type": "code",
      "metadata": {
        "trusted": true,
        "id": "VqQ1vDSzfSMO"
      },
      "source": [
        ""
      ],
      "execution_count": null,
      "outputs": []
    },
    {
      "cell_type": "code",
      "metadata": {
        "trusted": true,
        "id": "7rqjSbwufSMO"
      },
      "source": [
        "try:\n",
        "    a = int(input(\"Input A: \"))\n",
        "    b = int(input(\"Input B: \"))\n",
        "    c = int(input(\"Input C: \"))\n",
        "    \n",
        "    result = (a == b) and (a == c)\n",
        "    print (\"(a == b) and (a == c) : \", result )\n",
        "    \n",
        "    result = (a != b) or (b > c)\n",
        "    print (\"(a != b) or (b > c): \", result )\n",
        "    \n",
        "    result = not (a >= b)\n",
        "    print (\"not (a >= b) : \", result )\n",
        "    \n",
        "    result = not((b <= c) or True)\n",
        "    print (\"not((b <= c) or True) : \", result )\n",
        "    \n",
        "    \n",
        "    \n",
        "except ValueError:\n",
        "\n",
        "    print(\"กรุณากรอกค่าเป็นตัวเลขเท่านั้น\")"
      ],
      "execution_count": null,
      "outputs": []
    },
    {
      "cell_type": "markdown",
      "metadata": {
        "id": "Lt0k4MeGfSMO"
      },
      "source": [
        "# CONTROL FLOW - BRANCHING"
      ]
    },
    {
      "cell_type": "code",
      "metadata": {
        "trusted": true,
        "id": "zJwdKDIxfSMP"
      },
      "source": [
        "name = \"John\"\n",
        "age = 23\n",
        "if name == \"John\":    \n",
        "   print(\"Your name is John, and you are also 23 years old.\")"
      ],
      "execution_count": null,
      "outputs": []
    },
    {
      "cell_type": "code",
      "metadata": {
        "trusted": true,
        "id": "MHRIKSsqfSMP"
      },
      "source": [
        "name = \"Jim\"\n",
        "age = 23\n",
        "if name == \"John\":    \n",
        "   print(\"Your name is John, and you are also 23 years old.\")\n",
        "else:\n",
        "    try:\n",
        "        name = (input(\"Input your name: \"))\n",
        "        age = int(input(\"Input your age: \"))\n",
        "        print(\"Your name is \" + name +\", and you are also \" + str(age) + \" years old.\")   \n",
        "    except ValueError:\n",
        "         print(\"กรุณากรอกค่าอายุเป็นตัวเลขเท่านั้น\")"
      ],
      "execution_count": null,
      "outputs": []
    },
    {
      "cell_type": "code",
      "metadata": {
        "trusted": true,
        "id": "c2cqjMuxfSMP"
      },
      "source": [
        "name = \"Rick\"\n",
        "age = 23\n",
        "if name == \"John\" and age == 23:    \n",
        "   print(\"Your name is John, and you are also 23 years old.\")\n",
        "elif name == \"Rick\":    \n",
        "   print(\"Your name is Rick.\")\n",
        "else:\n",
        "   print (\"Unknown user.\")"
      ],
      "execution_count": null,
      "outputs": []
    },
    {
      "cell_type": "code",
      "metadata": {
        "trusted": true,
        "id": "IqvnchsGfSMQ"
      },
      "source": [
        "x = float(input(\"Enter a number for x: \"))\n",
        "y = float(input(\"Enter a number for y: \"))\n",
        "\n",
        "if x == y:\n",
        "    print(\"x and y are equal\")\n",
        "    if y != 0:\n",
        "        print(\"therefore, x / y is\", x/y)\n",
        "elif x < y:\n",
        "    print(\"x is smaller\")\n",
        "else:\n",
        "    print(\"y is smaller\")\n",
        "    \n",
        "print(\"thanks!\")"
      ],
      "execution_count": null,
      "outputs": []
    },
    {
      "cell_type": "markdown",
      "metadata": {
        "id": "wpIoQ3MThUkM"
      },
      "source": [
        "# แบบฝึกหัดที่ 3\n",
        "กำหนดให้นิสิตสร้างตัวแปรรับอายุ (Age) เป็นแบบ integer\n",
        "\n",
        "เงื่อนไขในการเลือกตั้ง \n",
        "1. ถ้าอายุตั้งแต่ 18 ปี จะแสดงข้อความ \"คุณเลือกตั้งได้\"\n",
        "2. ถ้าอายุน้อยกว่า 18 ปี จะแสดงข้อความ \"คุณเลือกตั้งไม่ได้\""
      ]
    },
    {
      "cell_type": "code",
      "metadata": {
        "id": "GON5r4jhiF2D"
      },
      "source": [
        ""
      ],
      "execution_count": null,
      "outputs": []
    },
    {
      "cell_type": "markdown",
      "metadata": {
        "id": "cxReQUMtimQS"
      },
      "source": [
        "# แบบฝึกหัดที่ 4\n",
        "กำหนดให้นิสิตสร้างตัวแปรเชื่อชาติ (Nationality) รับค่าสองแบบคือ\n",
        "  - Y เท่ากับ เป็นคนไทย\n",
        "  - N เท่ากับ ไม่เป็นคนไทย\n",
        "\n",
        "เงื่อนไขในการเลือกตั้ง \n",
        "\n",
        "    1. ถ้าเป็นคนไทย (Y) รับค่าตัวแปรอายุ (Age) เป็นแบบ integer\n",
        "        1.1 ถ้าอายุตั้งแต่ 18 ปี จะแสดงข้อความ \"คุณเลือกตั้งได้\"\n",
        "        1.2 ถ้าอายุน้อยกว่า 18 ปี จะแสดงข้อความ \"คุณเลือกตั้งไม่ได้\"\n",
        "\n",
        "    2. ถ้าไม่เป็นคนไทย(N) จะแสดงข้อความ \"คุณเลือกตั้งไม่ได้\""
      ]
    },
    {
      "cell_type": "code",
      "metadata": {
        "id": "HSKaQ9y7ivKV"
      },
      "source": [
        ""
      ],
      "execution_count": null,
      "outputs": []
    },
    {
      "cell_type": "markdown",
      "metadata": {
        "id": "R4FmixR4fSMQ"
      },
      "source": [
        "# แบบฝึกหัดที่ 5\n",
        "กำหนดให้นิสิตสร้างตัวแปรรับค่าคีย์บอร์ด  2 ตัวแปรได้แก่\n",
        "1. รับจำนวนเงินที่ลูกค้าซื้อสินค้า (Amount) เป็นแบบ float\n",
        "2. รับค่าว่าเป็นสมาชิก (Membership) เป็นแบบ str ที่มีค่าเป็นสมาชิกเท่ากับ \"Y\" หรือไม่เป็นสมาชิกเท่ากับ \"N\"\n",
        "\n",
        "คำนวณหาค่าส่วนลด (Discount) โดยมีเงื่อนไขดังนี้\n",
        "1. ถ้าลูกค้าซื้อสินค้าเกิน 5000 บาท และเป็นสมาชิกได้ส่วนลด 10 %\n",
        "2. กรณีอื่น ๆ ไม่ได้ส่วนลด (ส่วนลดเป็นศูนย์)\n"
      ]
    },
    {
      "cell_type": "code",
      "metadata": {
        "trusted": true,
        "id": "rihXSSZ-fSMR"
      },
      "source": [
        ""
      ],
      "execution_count": null,
      "outputs": []
    },
    {
      "cell_type": "markdown",
      "metadata": {
        "id": "1b-4avGbfSMR"
      },
      "source": [
        "# แบบฝึกหัดที่ 6\n",
        "กำหนดให้นิสิตสร้างตัวแปรรับค่าคีย์บอร์ด  2 ตัวแปรได้แก่\n",
        "1. รับจำนวนเงินที่ลูกค้าซื้อสินค้า (Amount) เป็นแบบ float\n",
        "2. รับค่าว่าเป็นสมาชิก (Membership) เป็นแบบ str ที่มีค่าเป็นสมาชิกเท่ากับ \"Y\" หรือไม่เป็นสมาชิกเท่ากับ \"N\"\n",
        "\n",
        "คำนวณหาค่าส่วนลด (Discount) โดยมีเงื่อนไขดังนี้\n",
        "1. ถ้าลูกค้าซื้อสินค้าเกิน 5000 บาท และเป็นสมาชิกได้ส่วนลด 10 %\n",
        "2. กรณีอื่น ๆ ได้ส่วนลด 5%\n"
      ]
    },
    {
      "cell_type": "code",
      "metadata": {
        "trusted": true,
        "id": "v956ChjufSMR"
      },
      "source": [
        ""
      ],
      "execution_count": null,
      "outputs": []
    },
    {
      "cell_type": "markdown",
      "metadata": {
        "id": "m8HoDePVfSMR"
      },
      "source": [
        "# แบบฝึกหัดที่ 7\n",
        "กำหนดให้นิสิตสร้างตัวแปรรับค่าคีย์บอร์ด  2 ตัวแปรได้แก่\n",
        "1. รับจำนวนเงินที่ลูกค้าซื้อสินค้า (Amount) เป็นแบบ float\n",
        "2. รับค่าว่าเป็นสมาชิก (Membership) เป็นแบบ str ที่มีค่าเป็นสมาชิกเท่ากับ \"Y\" หรือไม่เป็นสมาชิกเท่ากับ \"N\"\n",
        "\n",
        "คำนวณหาค่าส่วนลด (Discount) โดยมีเงื่อนไขดังนี้\n",
        "1. ถ้าลูกค้าซื้อสินค้าเกิน 5000 บาท และเป็นสมาชิกได้ส่วนลด 20 %\n",
        "2. ถ้าลูกค้าซื้อสินค้าเกิน 5000 บาท และไม่เป็นสมาชิกได้ส่วนลด 10 %\n",
        "3. กรณีอื่น ๆ ได้ส่วนลด 5%\n"
      ]
    },
    {
      "cell_type": "code",
      "metadata": {
        "trusted": true,
        "id": "gSywikmSfSMR"
      },
      "source": [
        ""
      ],
      "execution_count": null,
      "outputs": []
    },
    {
      "cell_type": "markdown",
      "metadata": {
        "id": "avwAWVQQkvyC"
      },
      "source": [
        "# แบบฝึกหัดที่ 8\n",
        "จงเขียนโปรแกรมตามรายละเอียดดังต่อไปนี้\n",
        "   1. กำหนดค่าตัวแปร float ที่มีชื่อว่า Height เท่ากับค่าน้ำหนักกิโลกรัมของนิสิต และ Weight เป็นค่าส่วนสูงที่เป็นหน่วยเมตรของนิสิต\n",
        "  2. คำนวณค่าตัวแปร BMI = (Weight in kilograms)/ (Height in meters)^2\n",
        "  3. แสดงข้อความตามเกณฑ์ค่า BMI ดังนี้\n",
        "    - ค่า BMI < 18.5  แสดงถึง อยู่ในเกณฑ์น้ำหนักน้อยหรือผอม (You are skinny.)\n",
        "    - ค่า BMI 18.5 – 22.90 แสดงถึง อยู่ในเกณฑ์ปกติ (You are normal weight.)\n",
        "    - ค่า BMI 23 – 24.90 แสดงถึง  น้ำหนักเกิน (You are chubby.)\n",
        "    - ค่า BMI มากกว่า 24.90 ขึ้นไป แสดงถึง โรคอ้วน (You are too fat.)\n"
      ]
    },
    {
      "cell_type": "code",
      "metadata": {
        "id": "raoc7NJFpBuA"
      },
      "source": [
        ""
      ],
      "execution_count": null,
      "outputs": []
    },
    {
      "cell_type": "markdown",
      "metadata": {
        "id": "ihTObtAC1tUe"
      },
      "source": [
        "# แบบฝึกหัดที่ 9\n",
        "จงเขียนโปรแกรมตามรายละเอียดดังต่อไปนี้\n",
        "   1. กำหนดค่าตัวแปร integer ที่มีชื่อว่า Top เท่ากับค่าความดันโลหิตตัวบน และ Low เป็นค่าความดันโลหิตตัวล่าง\n",
        "   2. แสดงเกณฑ์ระดับความดันโลหิตดังนี้\n",
        "    -   ค่า TOP<120 และ LOW<80 เป็น ความดันโลหิตดี (Good blood pressure.)\n",
        "\t  -   ค่า TOP<129 และ LOW<84 เป็น ความดันโลหิตปกติ (Normal blood pressure.)\n",
        "\t  -   ค่า TOP<139 และ LOW<89 เป็น ความดันโลหิตค่อนข้างสูง (Quite high blood pressure.)\n",
        "\t  -   ค่า TOP>139 หรือ LOW>89 เป็น ความดันโลหิตสูง (High blood pressure.)\n"
      ]
    },
    {
      "cell_type": "markdown",
      "metadata": {
        "id": "reQn8yEfpi-B"
      },
      "source": [
        ""
      ]
    }
  ]
}