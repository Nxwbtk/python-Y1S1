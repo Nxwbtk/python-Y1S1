{
  "nbformat": 4,
  "nbformat_minor": 0,
  "metadata": {
    "colab": {
      "name": "LoopExample3.ipynb",
      "provenance": []
    },
    "kernelspec": {
      "name": "python3",
      "display_name": "Python 3"
    },
    "language_info": {
      "name": "python"
    }
  },
  "cells": [
    {
      "cell_type": "markdown",
      "metadata": {
        "id": "AcBN3SN7DzQ8"
      },
      "source": [
        "## for...else...loop"
      ]
    },
    {
      "cell_type": "code",
      "metadata": {
        "id": "yzV6vHc2D5Fw",
        "colab": {
          "base_uri": "https://localhost:8080/"
        },
        "outputId": "2f8785e3-f30f-4227-dea9-c803edc39ce6"
      },
      "source": [
        "for x in range(6):\n",
        "  print(x)\n",
        "else:\n",
        "  print(\"Finally finished!\")"
      ],
      "execution_count": 1,
      "outputs": [
        {
          "output_type": "stream",
          "text": [
            "0\n",
            "1\n",
            "2\n",
            "3\n",
            "4\n",
            "5\n",
            "Finally finished!\n"
          ],
          "name": "stdout"
        }
      ]
    },
    {
      "cell_type": "code",
      "metadata": {
        "id": "jJ7NhFpKGPbP"
      },
      "source": [
        "i = 6\n",
        "while i > 0:\n",
        "    print (i)\n",
        "    i -= 1\n",
        "else:\n",
        "    print(\"Finally finished!\")\n"
      ],
      "execution_count": null,
      "outputs": []
    },
    {
      "cell_type": "markdown",
      "metadata": {
        "id": "0cBF87V0SCxP"
      },
      "source": [
        "##โปรแกรมรับจำนวนสินค้าจากคีย์บอร์ด แล้วจัดลงกล่องละ 12 ชิ้น ให้แสดงจำนวนกล่องทั้งหมดที่ต้องการใช้   \n"
      ]
    },
    {
      "cell_type": "code",
      "metadata": {
        "id": "66Y_OdR7SB1T",
        "colab": {
          "base_uri": "https://localhost:8080/"
        },
        "outputId": "4d85215a-e43e-4e3c-bb90-5fb750d14bc9"
      },
      "source": [
        "try :\n",
        "  goods = int(input(\"Enter number of goods : \"))\n",
        "  box = goods//12\n",
        "  remain = goods%12\n",
        "  if remain>0 :\n",
        "    box+=1\n",
        "  print(\"Number of boxes : \",box)\n",
        "except ValueError:\n",
        "  print(\"Please enter number only\")"
      ],
      "execution_count": 5,
      "outputs": [
        {
          "output_type": "stream",
          "text": [
            "Enter number of goods : 41\n",
            "Number of boxes :  4\n"
          ],
          "name": "stdout"
        }
      ]
    },
    {
      "cell_type": "markdown",
      "metadata": {
        "id": "wNwuHu9vSKD6"
      },
      "source": [
        "##  โปรแกรมนับรถยนต์และจักรยานยนต์ของที่รับฝากรถแห่งหนึ่ง ที่รองรับรถยนต์ได้ 10 คัน และจักรยานยนต์  50 คัน\n",
        "\n",
        "     - รับจำนวนรถยนต์และจักรยานยนต์ที่ต้องการจอดจากคีย์บอร์ดจนกระทั่งใส่จำนวนรถยนต์และจักรยานยนต์เท่ากับ 0 \n",
        "\n",
        "     - คำนวณที่จอดรถยนต์และจักรยานยนต์ที่เหลือว่างอยู่\n",
        "     \n",
        "     - ถ้าที่จอดรถเต็มให้แสดงว่า Parking lot is full. และหยุดโปรแกรม"
      ]
    },
    {
      "cell_type": "code",
      "metadata": {
        "id": "DtzLQ1hBSKZ1",
        "colab": {
          "base_uri": "https://localhost:8080/"
        },
        "outputId": "e48d61b3-ce7c-47f1-bd4f-674b7f60e874"
      },
      "source": [
        "try :\n",
        "  Car_cap = 10\n",
        "  Motor_cap = 50\n",
        "  while True :\n",
        "    car = int(input(\"Enter number of car : \"))\n",
        "    motor = int(input(\"Enter number of motorcycle : \"))\n",
        "    Car_cap-=car\n",
        "    Motor_cap-=motor\n",
        "    if Car_cap>0 and Motor_cap>0:\n",
        "      print(\"Remaining lots cars : %d and  motorcycles: %d\"%(Car_cap,Motor_cap))\n",
        "    if car<=0 and motor<=0 :\n",
        "      print(\"stop program!!\")\n",
        "      break\n",
        "    elif Car_cap<=0 or Motor_cap<=0:\n",
        "      print(\"Parking lots is full\")\n",
        "      break\n",
        "    \n",
        "except ValueError : \n",
        "  print(\"Enter number only!\")"
      ],
      "execution_count": 24,
      "outputs": [
        {
          "output_type": "stream",
          "text": [
            "Enter number of car : -1\n",
            "Enter number of motorcycle : -1\n",
            "Remaining lots cars : 11 and  motorcycles: 51\n",
            "stop program!!\n"
          ],
          "name": "stdout"
        }
      ]
    },
    {
      "cell_type": "markdown",
      "metadata": {
        "id": "qjxp5Et1i7n6"
      },
      "source": [
        "## Nested Loop"
      ]
    },
    {
      "cell_type": "code",
      "metadata": {
        "id": "fV1TRsxehakh"
      },
      "source": [
        "for i in range (2) :\n",
        "  print (\"row : \" , i)\n",
        "  for j in range (5) :\n",
        "    print (i, j)\n",
        "else:\n",
        "  print(\"--------END----------\")"
      ],
      "execution_count": null,
      "outputs": []
    },
    {
      "cell_type": "code",
      "metadata": {
        "id": "68JRuCL5jArq"
      },
      "source": [
        "i = 1\n",
        "while i <= 2:\n",
        "  print (\"row : \" , i)\n",
        "  for j in range (5) :\n",
        "    print (i, j)\n",
        "  i += 1\n",
        "print(\"-------END---------\")"
      ],
      "execution_count": null,
      "outputs": []
    },
    {
      "cell_type": "markdown",
      "metadata": {
        "id": "ofO4nTx3kEmh"
      },
      "source": [
        "## 1. ตารางสูตรผลแม่คูณตั้งแต่แม่ 2 ถึง 5 \n",
        "\n",
        "## โดยแสดงผลคูณจาก 1 ... 12  \n"
      ]
    },
    {
      "cell_type": "code",
      "metadata": {
        "id": "zeeT16mb4Kdk",
        "colab": {
          "base_uri": "https://localhost:8080/"
        },
        "outputId": "1c6fff96-a8ec-435d-c3b7-27dffd8e9f24"
      },
      "source": [
        "try:\n",
        "  for i in range(2,6):\n",
        "    for j in range(1,13):\n",
        "      print(i,\" x \",j,\" = \",i*j)\n",
        "    else:\n",
        "      print(\"------------------------\")\n",
        "\n",
        "except ValueError:\n",
        "  print(\"Enter number only!\")"
      ],
      "execution_count": 32,
      "outputs": [
        {
          "output_type": "stream",
          "text": [
            "2  x  1  =  2\n",
            "2  x  2  =  4\n",
            "2  x  3  =  6\n",
            "2  x  4  =  8\n",
            "2  x  5  =  10\n",
            "2  x  6  =  12\n",
            "2  x  7  =  14\n",
            "2  x  8  =  16\n",
            "2  x  9  =  18\n",
            "2  x  10  =  20\n",
            "2  x  11  =  22\n",
            "2  x  12  =  24\n",
            "------------------------\n",
            "3  x  1  =  3\n",
            "3  x  2  =  6\n",
            "3  x  3  =  9\n",
            "3  x  4  =  12\n",
            "3  x  5  =  15\n",
            "3  x  6  =  18\n",
            "3  x  7  =  21\n",
            "3  x  8  =  24\n",
            "3  x  9  =  27\n",
            "3  x  10  =  30\n",
            "3  x  11  =  33\n",
            "3  x  12  =  36\n",
            "------------------------\n",
            "4  x  1  =  4\n",
            "4  x  2  =  8\n",
            "4  x  3  =  12\n",
            "4  x  4  =  16\n",
            "4  x  5  =  20\n",
            "4  x  6  =  24\n",
            "4  x  7  =  28\n",
            "4  x  8  =  32\n",
            "4  x  9  =  36\n",
            "4  x  10  =  40\n",
            "4  x  11  =  44\n",
            "4  x  12  =  48\n",
            "------------------------\n",
            "5  x  1  =  5\n",
            "5  x  2  =  10\n",
            "5  x  3  =  15\n",
            "5  x  4  =  20\n",
            "5  x  5  =  25\n",
            "5  x  6  =  30\n",
            "5  x  7  =  35\n",
            "5  x  8  =  40\n",
            "5  x  9  =  45\n",
            "5  x  10  =  50\n",
            "5  x  11  =  55\n",
            "5  x  12  =  60\n",
            "------------------------\n"
          ],
          "name": "stdout"
        }
      ]
    },
    {
      "cell_type": "markdown",
      "metadata": {
        "id": "c0YfTeyG3_v_"
      },
      "source": [
        "## 2.  โปรแกรมรับออเดอร์ลูกค้ากี่คนก็ได้ จนกระทั่งเลือก No ในแต่ลออเดอร์รับรายการสั่งซื้อเท่าไหร่ก็ได้จนกว่าเลือก 0\n",
        "\n",
        "Menu\n",
        "\n",
        "Coke 20 baht\n",
        "\n",
        "Milk  15 baht\n",
        "\n",
        "Tea   20 baht\n",
        "\n",
        "Water 10 baht"
      ]
    },
    {
      "cell_type": "code",
      "metadata": {
        "id": "17eE2x7ukDkz",
        "colab": {
          "base_uri": "https://localhost:8080/"
        },
        "outputId": "b2e10472-f555-422b-d9f4-ccad334128e2"
      },
      "source": [
        "try:\n",
        "  print(\"1. Coke 20 baht\")\n",
        "  print(\"2. Milk 15 baht\")\n",
        "  print(\"3. Tea 20 baht\")\n",
        "  print(\"4. Water 10 baht\")\n",
        "  people = True\n",
        "  menu = True\n",
        "  while people :\n",
        "    people = input(\"New order (Y/N) : \")\n",
        "    if people.upper()=='N':\n",
        "      people = False\n",
        "    elif people.upper()!='Y':\n",
        "      print(\"Wrong\")\n",
        "      continue\n",
        "    amount = 0\n",
        "    while menu :\n",
        "      menu = int(input(\"Choose your menu : \"))\n",
        "      if menu==1 or menu==3:\n",
        "        amount+=20\n",
        "      elif menu==2:\n",
        "        amount+=15\n",
        "      elif menu==4:\n",
        "        amount+=10\n",
        "      elif menu>4:\n",
        "        print(\"We don't have this menu\")\n",
        "      elif menu==0:\n",
        "        menu = False\n",
        "        print(\"---------------------\")\n",
        "        print(\"amount = \",amount)\n",
        "\n",
        "except ValueError:\n",
        "  print(\"\")  "
      ],
      "execution_count": 62,
      "outputs": [
        {
          "output_type": "stream",
          "text": [
            "1. Coke 20 baht\n",
            "2. Milk 15 baht\n",
            "3. Tea 20 baht\n",
            "4. Water 10 baht\n",
            "New order (Y/N) : u\n",
            "Wrong\n",
            "New order (Y/N) : y\n",
            "Choose your menu : 1\n",
            "Choose your menu : 2\n",
            "Choose your menu : 3\n",
            "Choose your menu : 4\n",
            "Choose your menu : 5\n",
            "We don't have this menu\n",
            "Choose your menu : 6\n",
            "We don't have this menu\n",
            "Choose your menu : 0\n",
            "---------------------\n",
            "65\n",
            "New order (Y/N) : n\n"
          ],
          "name": "stdout"
        }
      ]
    }
  ]
}