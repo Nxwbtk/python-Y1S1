{
  "nbformat": 4,
  "nbformat_minor": 0,
  "metadata": {
    "kernelspec": {
      "name": "python3",
      "display_name": "Python 3",
      "language": "python"
    },
    "language_info": {
      "mimetype": "text/x-python",
      "nbconvert_exporter": "python",
      "name": "python",
      "file_extension": ".py",
      "version": "3.5.4",
      "pygments_lexer": "ipython3",
      "codemirror_mode": {
        "version": 3,
        "name": "ipython"
      }
    },
    "colab": {
      "name": "Python_Learn03.ipynb",
      "provenance": []
    }
  },
  "cells": [
    {
      "cell_type": "markdown",
      "metadata": {
        "id": "Ix6u42twseIN"
      },
      "source": [
        "# ตัวอย่างการใช้งานคำสั่ง for..loop\n",
        "เป็นคำสั่งทำงานซ้ำ ตามค่าตัวแปรที่กำหนดไว้"
      ]
    },
    {
      "cell_type": "code",
      "metadata": {
        "trusted": true,
        "colab": {
          "base_uri": "https://localhost:8080/"
        },
        "id": "f3yh186tseIP",
        "outputId": "729e7c9d-0fa2-4cdc-ad5f-c23400667102"
      },
      "source": [
        "fruits = [\"apple\", \"banana\", \"cherry\",\"orange\",\"watermelon\"]\n",
        "for x in fruits:\n",
        "    print(x)"
      ],
      "execution_count": 8,
      "outputs": [
        {
          "output_type": "stream",
          "text": [
            "apple\n",
            "banana\n",
            "cherry\n",
            "orange\n",
            "watermelon\n"
          ],
          "name": "stdout"
        }
      ]
    },
    {
      "cell_type": "code",
      "metadata": {
        "trusted": true,
        "colab": {
          "base_uri": "https://localhost:8080/"
        },
        "id": "QTQnJ7ceseIQ",
        "outputId": "a9762f3d-9cb1-400f-c09c-b94541fb4b15"
      },
      "source": [
        "for x in \"bunthakan\":\n",
        "    print(x)"
      ],
      "execution_count": 11,
      "outputs": [
        {
          "output_type": "stream",
          "text": [
            "b\n",
            "u\n",
            "n\n",
            "t\n",
            "h\n",
            "a\n",
            "k\n",
            "a\n",
            "n\n"
          ],
          "name": "stdout"
        }
      ]
    },
    {
      "cell_type": "markdown",
      "metadata": {
        "id": "TOTFDpdpseIQ"
      },
      "source": [
        "## ตัวอย่างคำสั่ง continue\n",
        "ใช้หยุดรอบปัจจุบันแล้วเริ่มวนไปรอบถัดไปของคำสั่ง for"
      ]
    },
    {
      "cell_type": "code",
      "metadata": {
        "trusted": true,
        "colab": {
          "base_uri": "https://localhost:8080/"
        },
        "id": "c-DxWjpFseIQ",
        "outputId": "285065fe-7c5b-40f4-f113-1504fc3ad44d"
      },
      "source": [
        "fruits = [\"apple\", \"banana\",\"orange\", \"cherry\"]\n",
        "for x in fruits:\n",
        "    if x == \"orange\":\n",
        "        continue\n",
        "    print(x)"
      ],
      "execution_count": 13,
      "outputs": [
        {
          "output_type": "stream",
          "text": [
            "apple\n",
            "banana\n",
            "cherry\n"
          ],
          "name": "stdout"
        }
      ]
    },
    {
      "cell_type": "markdown",
      "metadata": {
        "id": "fLhhCjDwseIR"
      },
      "source": [
        "## ตัวอย่างคำสั่ง break\n",
        "คำสั่ง break ใช้หยุดการวนซ้ำของคำสั่ง for"
      ]
    },
    {
      "cell_type": "code",
      "metadata": {
        "trusted": true,
        "colab": {
          "base_uri": "https://localhost:8080/"
        },
        "id": "7ovSN_11seIR",
        "outputId": "97c9d643-6140-4b02-cc45-7d13b4978b57"
      },
      "source": [
        "fruits = [\"apple\", \"banana\", \"cherry\"]\n",
        "for x in fruits:\n",
        "    if x == \"cherry\":\n",
        "        break\n",
        "    print(x)"
      ],
      "execution_count": 15,
      "outputs": [
        {
          "output_type": "stream",
          "text": [
            "apple\n",
            "banana\n"
          ],
          "name": "stdout"
        }
      ]
    },
    {
      "cell_type": "markdown",
      "metadata": {
        "id": "iO1GT7JeseIR"
      },
      "source": [
        "# คำสั่ง range() function\n",
        "ฟังก์ชัน range() จะส่งคืนรายการค่าตัวเลข โดยเริ่มต้นจาก 0 (default) และเพิ่มค่าครั้งละ 1 (by default) จนสิ้นสุดที่ค่าตัวเลขที่ระบุไว้ ตัวอย่างเช่น\n"
      ]
    },
    {
      "cell_type": "code",
      "metadata": {
        "trusted": true,
        "id": "9ha3W0UxseIS"
      },
      "source": [
        "print(list(range(0,10)))"
      ],
      "execution_count": null,
      "outputs": []
    },
    {
      "cell_type": "code",
      "metadata": {
        "trusted": true,
        "colab": {
          "base_uri": "https://localhost:8080/",
          "height": 230
        },
        "id": "DtCkwiUlseIS",
        "outputId": "55da5700-8400-4c31-993a-899b2a1e789f"
      },
      "source": [
        "# เริ่มต้นตั้งแต่ 0 ถึง 5\n",
        "print(list(range(6)))\n",
        "\n",
        "#เริ่มต้นที่ตัวเลข 2 จนถึง 9\n",
        "print(list(range(2,10)))\n",
        "\n",
        "#เริ่มต้นที่ตัวเลข 2 จนถึง 9 เพิ่มขึ้นครั้งละ 2\n",
        "print(list(range(2,10,2)))\n",
        "\n"
      ],
      "execution_count": 23,
      "outputs": [
        {
          "output_type": "error",
          "ename": "TypeError",
          "evalue": "ignored",
          "traceback": [
            "\u001b[0;31m---------------------------------------------------------------------------\u001b[0m",
            "\u001b[0;31mTypeError\u001b[0m                                 Traceback (most recent call last)",
            "\u001b[0;32m<ipython-input-23-5706f41e06c2>\u001b[0m in \u001b[0;36m<module>\u001b[0;34m()\u001b[0m\n\u001b[1;32m      1\u001b[0m \u001b[0;31m# เริ่มต้นตั้งแต่ 0 ถึง 5\u001b[0m\u001b[0;34m\u001b[0m\u001b[0;34m\u001b[0m\u001b[0;34m\u001b[0m\u001b[0m\n\u001b[0;32m----> 2\u001b[0;31m \u001b[0mprint\u001b[0m\u001b[0;34m(\u001b[0m\u001b[0mlist\u001b[0m\u001b[0;34m(\u001b[0m\u001b[0mrange\u001b[0m\u001b[0;34m(\u001b[0m\u001b[0;36m6\u001b[0m\u001b[0;34m)\u001b[0m\u001b[0;34m)\u001b[0m\u001b[0;34m)\u001b[0m\u001b[0;34m\u001b[0m\u001b[0;34m\u001b[0m\u001b[0m\n\u001b[0m\u001b[1;32m      3\u001b[0m \u001b[0;34m\u001b[0m\u001b[0m\n\u001b[1;32m      4\u001b[0m \u001b[0;31m#เริ่มต้นที่ตัวเลข 2 จนถึง 9\u001b[0m\u001b[0;34m\u001b[0m\u001b[0;34m\u001b[0m\u001b[0;34m\u001b[0m\u001b[0m\n\u001b[1;32m      5\u001b[0m \u001b[0mprint\u001b[0m\u001b[0;34m(\u001b[0m\u001b[0mlist\u001b[0m\u001b[0;34m(\u001b[0m\u001b[0mrange\u001b[0m\u001b[0;34m(\u001b[0m\u001b[0;36m2\u001b[0m\u001b[0;34m,\u001b[0m\u001b[0;36m10\u001b[0m\u001b[0;34m)\u001b[0m\u001b[0;34m)\u001b[0m\u001b[0;34m)\u001b[0m\u001b[0;34m\u001b[0m\u001b[0;34m\u001b[0m\u001b[0m\n",
            "\u001b[0;31mTypeError\u001b[0m: 'str' object is not callable"
          ]
        }
      ]
    },
    {
      "cell_type": "markdown",
      "metadata": {
        "id": "ilgJ8o2yseIS"
      },
      "source": [
        "## การใช้คำสั่ง range ใน for"
      ]
    },
    {
      "cell_type": "code",
      "metadata": {
        "trusted": true,
        "id": "MTdxBIbCseIS",
        "outputId": "4aba4751-6873-40c7-d53b-8be627d33d46"
      },
      "source": [
        "for x in range(6):\n",
        "    print(x)"
      ],
      "execution_count": null,
      "outputs": [
        {
          "output_type": "stream",
          "text": [
            "0\n",
            "1\n",
            "2\n",
            "3\n",
            "4\n",
            "5\n"
          ],
          "name": "stdout"
        }
      ]
    },
    {
      "cell_type": "code",
      "metadata": {
        "trusted": true,
        "id": "3yF50yoGseIT",
        "outputId": "28c6dff6-1673-481e-ff84-66fc993de1f9"
      },
      "source": [
        "for x in range(2, 6):\n",
        "    print(x)"
      ],
      "execution_count": null,
      "outputs": [
        {
          "output_type": "stream",
          "text": [
            "2\n",
            "3\n",
            "4\n",
            "5\n"
          ],
          "name": "stdout"
        }
      ]
    },
    {
      "cell_type": "code",
      "metadata": {
        "trusted": true,
        "id": "FV3Bc_BPseIT",
        "outputId": "2c14ec63-ccf9-40d4-c8d1-2656b89dd5f0"
      },
      "source": [
        "for x in range(2, 20, 3):\n",
        "    print(x)"
      ],
      "execution_count": null,
      "outputs": [
        {
          "output_type": "stream",
          "text": [
            "2\n",
            "5\n",
            "8\n",
            "11\n",
            "14\n",
            "17\n"
          ],
          "name": "stdout"
        }
      ]
    },
    {
      "cell_type": "markdown",
      "metadata": {
        "id": "AwGkhP2bseIT"
      },
      "source": [
        "# แบบฝึกหัดที่ 1. \n",
        "ตารางสูตรผลแม่คูณจาก 1 ... 12 โดยรับค่าตัวเลขแม่คูณจากคีย์บอร์ด \n"
      ]
    },
    {
      "cell_type": "code",
      "metadata": {
        "trusted": true,
        "colab": {
          "base_uri": "https://localhost:8080/"
        },
        "id": "YLEJEXNzseIT",
        "outputId": "8d1c0212-c294-43d0-f354-ea34a13bb290"
      },
      "source": [
        "try:\n",
        "    number = int(input(\"Enter a number: \"))\n",
        "    for i in range(1,13):\n",
        "      result = number*i\n",
        "      print(\"%d x %d = %d\"%(number,i,result))\n",
        "except ValueError:\n",
        "    print(\"กรุณากรอกค่าตัวเลขเท่านั้น\")"
      ],
      "execution_count": 28,
      "outputs": [
        {
          "output_type": "stream",
          "text": [
            "Enter a number: 2\n",
            "2 x 1 = 2\n",
            "2 x 2 = 4\n",
            "2 x 3 = 6\n",
            "2 x 4 = 8\n",
            "2 x 5 = 10\n",
            "2 x 6 = 12\n",
            "2 x 7 = 14\n",
            "2 x 8 = 16\n",
            "2 x 9 = 18\n",
            "2 x 10 = 20\n",
            "2 x 11 = 22\n",
            "2 x 12 = 24\n"
          ],
          "name": "stdout"
        }
      ]
    },
    {
      "cell_type": "markdown",
      "metadata": {
        "id": "RzzlKnxKseIU"
      },
      "source": [
        "# แบบฝึกหัดที่ 2. \n",
        "จงเขียนโปรแกรมรับค่าคะแนนนิสิตจำนวน 10 คนและคำนวณผลรวมและค่าเฉลี่ยของคะแนนนิสิตทั้งหมด\n"
      ]
    },
    {
      "cell_type": "code",
      "metadata": {
        "trusted": true,
        "colab": {
          "base_uri": "https://localhost:8080/"
        },
        "id": "DmCsa6KXseIU",
        "outputId": "b4c648d2-8631-41e3-e6d4-a81d2fd0ae14"
      },
      "source": [
        "try:\n",
        "    sum=0\n",
        "    for i in range(1,11,1):\n",
        "        number = int(input(\"Enter a number #%d : \"%i))\n",
        "        sum+=number\n",
        "    Average = sum/10\n",
        "    print(\"ผลรวมของนักเรียนจำนวน %d คน = %d\"%(i,sum))\n",
        "    print(\"ค่าเฉลี่ยของนักเรียนจำนวน %d คน = %.1f\"%(i,Average))\n",
        "except ValueError:\n",
        "    print(\"กรุณากรอกค่าตัวเลขเท่านั้น\")"
      ],
      "execution_count": 32,
      "outputs": [
        {
          "output_type": "stream",
          "text": [
            "Enter a number #1 : 1\n",
            "Enter a number #2 : 2\n",
            "Enter a number #3 : 3\n",
            "Enter a number #4 : 4\n",
            "Enter a number #5 : 5\n",
            "Enter a number #6 : 6\n",
            "Enter a number #7 : 7\n",
            "Enter a number #8 : 8\n",
            "Enter a number #9 : 9\n",
            "Enter a number #10 : 10\n",
            "ผลรวมของนักเรียนจำนวน 10 คน = 55\n",
            "ค่าเฉลี่ยของนักเรียนจำนวน 10 คน = 5.5\n"
          ],
          "name": "stdout"
        }
      ]
    },
    {
      "cell_type": "markdown",
      "metadata": {
        "id": "sOUsxOTsseIU"
      },
      "source": [
        "# แบบฝึกหัดที่ 3.\n",
        "จงแสดงตัวเลขที่อยู่ในช่วงระหว่าง 0 ถึง 100 และหารด้วย 3 ลงตัว ว่ามีกี่ตัวเลข และเลขอะไรบ้าง"
      ]
    },
    {
      "cell_type": "code",
      "metadata": {
        "trusted": true,
        "colab": {
          "base_uri": "https://localhost:8080/"
        },
        "id": "r8Ng_Je6seIU",
        "outputId": "40ba0c6c-434e-4e76-d77f-ea922e185707"
      },
      "source": [
        "try:\n",
        "    count = 0\n",
        "    for num in range(0,101):\n",
        "        if num % 3 == 0:\n",
        "            count += 1\n",
        "            print (num)\n",
        "    print(\"count of number : \", count)\n",
        "except ValueError:\n",
        "    print(\"กรุณากรอกค่าตัวเลขเท่านั้น\")"
      ],
      "execution_count": 83,
      "outputs": [
        {
          "output_type": "stream",
          "text": [
            "0\n",
            "3\n",
            "6\n",
            "9\n",
            "12\n",
            "15\n",
            "18\n",
            "21\n",
            "24\n",
            "27\n",
            "30\n",
            "33\n",
            "36\n",
            "39\n",
            "42\n",
            "45\n",
            "48\n",
            "51\n",
            "54\n",
            "57\n",
            "60\n",
            "63\n",
            "66\n",
            "69\n",
            "72\n",
            "75\n",
            "78\n",
            "81\n",
            "84\n",
            "87\n",
            "90\n",
            "93\n",
            "96\n",
            "99\n",
            "count of number :  34\n"
          ],
          "name": "stdout"
        }
      ]
    },
    {
      "cell_type": "markdown",
      "metadata": {
        "id": "Yz5AfrukseIU"
      },
      "source": [
        "# แบบฝึกหัดที่ 4. \n",
        "จงเขียนโปรแกรมทายตัวเลขสุ่มที่สร้างจากเครื่องคอมพิวเตอร์ในช่วง 0 ถึง 9 โดยกำหนดให้ทายจำนวน 3 ครั้ง "
      ]
    },
    {
      "cell_type": "code",
      "metadata": {
        "trusted": true,
        "colab": {
          "base_uri": "https://localhost:8080/"
        },
        "id": "49AjzRuUseIU",
        "outputId": "93b60abd-35d1-4c43-a73f-f3393a4511f2"
      },
      "source": [
        "from numpy import random\n",
        "rd = random.randint(10)\n",
        "\n",
        "try:\n",
        "    \n",
        "    for i in range(3):\n",
        "      guess = int(input(\"Enter a number: \"))\n",
        "      if guess==rd:\n",
        "        print(\"Correct! The answer is %d\"%rd)\n",
        "        break\n",
        "      else:\n",
        "        print(\"Wrong answer try again!\")\n",
        "    print(\"number = \",rd)\n",
        "except ValueError:\n",
        "    print(\"กรุณากรอกค่าตัวเลขเท่านั้น\")"
      ],
      "execution_count": 79,
      "outputs": [
        {
          "output_type": "stream",
          "text": [
            "Enter a number: 5\n",
            "Wrong answer try again!\n",
            "Enter a number: 4\n",
            "Correct! The answer is 4\n",
            "number =  4\n"
          ],
          "name": "stdout"
        }
      ]
    },
    {
      "cell_type": "markdown",
      "metadata": {
        "id": "a6Vl1tkbpMd7"
      },
      "source": [
        " # แบบฝึกหัดที่ 5\n",
        "\n",
        "ให้รับค่าตัวแปรข้อความหนึ่งตัว แล้วหาว่ามีตัวสระภาษาอังกฤษกี่ตัว และพยัญชนะภาษาอังกฤษกี่ตัว  พร้อมแสดงผลออกมา"
      ]
    },
    {
      "cell_type": "code",
      "metadata": {
        "colab": {
          "base_uri": "https://localhost:8080/"
        },
        "id": "jFAyw3EspUNG",
        "outputId": "1ce81e7b-7931-4519-84b9-120dabb5bf75"
      },
      "source": [
        "try :\n",
        "  txt = input(\"Enter your name : \")\n",
        "  vw_count = cs_count = 0\n",
        "  for i in txt.lower() :\n",
        "    if i == 'a' or i == 'e' or i=='i' or i=='o' or i=='u':\n",
        "      vw_count+=1\n",
        "    else :\n",
        "      cs_count+= 1\n",
        "  print(\"count of vowel : \",vw_count)\n",
        "  print(\"count of cosonan : \",cs_count)\n",
        "\n",
        "except ValueError:\n",
        "  print(\"Enter string only!\")\n"
      ],
      "execution_count": 49,
      "outputs": [
        {
          "output_type": "stream",
          "text": [
            "Enter your name : Bunthakan\n",
            "count of vowel :  3\n",
            "count of cosonan :  6\n"
          ],
          "name": "stdout"
        }
      ]
    }
  ]
}