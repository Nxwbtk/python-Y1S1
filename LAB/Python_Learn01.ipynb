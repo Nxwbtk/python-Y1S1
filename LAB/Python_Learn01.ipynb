{
  "nbformat": 4,
  "nbformat_minor": 0,
  "metadata": {
    "kernelspec": {
      "name": "python3",
      "display_name": "Python 3"
    },
    "colab": {
      "name": "Python_Learn01.ipynb",
      "provenance": [],
      "collapsed_sections": []
    },
    "language_info": {
      "name": "python"
    }
  },
  "cells": [
    {
      "cell_type": "markdown",
      "metadata": {
        "id": "4mjKaZIDWzzh"
      },
      "source": [
        "# 1. สร้างและกำหนดค่าตัวแปร "
      ]
    },
    {
      "cell_type": "code",
      "metadata": {
        "trusted": true,
        "id": "94EWf8XtWzzj"
      },
      "source": [
        "Name = \"Chatchai\"\n",
        "Age = 48\n",
        "Weight = 75.0\n",
        "Status = True\n",
        "\n",
        "print(Name + \" is \" + str(Age ) + \" years old.\")"
      ],
      "execution_count": null,
      "outputs": []
    },
    {
      "cell_type": "markdown",
      "metadata": {
        "id": "oBUklxToWzzj"
      },
      "source": [
        "# 2. ตรวจสอบประเภทค่าข้อมูลของตัวแปร"
      ]
    },
    {
      "cell_type": "code",
      "metadata": {
        "trusted": true,
        "id": "04chqnaxWzzk"
      },
      "source": [
        "print(type(Name))\n",
        "print(type(Age))\n",
        "\n",
        "print(type(Weight))\n",
        "print(type(Status))"
      ],
      "execution_count": null,
      "outputs": []
    },
    {
      "cell_type": "markdown",
      "metadata": {
        "trusted": true,
        "id": "Yh8Tz0uFWzzk"
      },
      "source": [
        "# 3. แปลงค่าตัวแปร"
      ]
    },
    {
      "cell_type": "code",
      "metadata": {
        "trusted": true,
        "id": "1KV1dnuxWzzl"
      },
      "source": [
        "\n",
        "a = 15\n",
        "b = \"25.5\"\n",
        "c = 45.8\n",
        "\n",
        "d = \"my age : \" + str(a)\n",
        "e = 10 * float(b)\n",
        "f = int(c) / 5\n",
        "\n",
        "print(d)\n",
        "print(e)\n",
        "print(f)"
      ],
      "execution_count": null,
      "outputs": []
    },
    {
      "cell_type": "markdown",
      "metadata": {
        "id": "ix-Ra7TWWzzl"
      },
      "source": [
        "# 4. รับค่าตัวแปรจากคียบอร์ดด้วย input function"
      ]
    },
    {
      "cell_type": "code",
      "metadata": {
        "trusted": true,
        "id": "1uxhcXtVWzzl"
      },
      "source": [
        "print('What is your name?')\n",
        "name = input() \n",
        "print('Hi ' + name + '!')"
      ],
      "execution_count": null,
      "outputs": []
    },
    {
      "cell_type": "markdown",
      "metadata": {
        "id": "6s471ytoWzzm"
      },
      "source": [
        "## 4.1 รับค่าตัวแปรจากคีย์บอร์ดแล้วแปลงเป็นตัวเลขจำนวนเต็มทันที (integer)\n",
        "*** จะเกิดข้อผิดพลาด (error) เมื่อผู้ใช้งานไม่ได้กรอกค่าตัวเลข ***"
      ]
    },
    {
      "cell_type": "code",
      "metadata": {
        "trusted": true,
        "id": "ARyhyOzAWzzm"
      },
      "source": [
        "age=int(input(\"What is your age?\"))\n",
        "print (age)"
      ],
      "execution_count": null,
      "outputs": []
    },
    {
      "cell_type": "markdown",
      "metadata": {
        "id": "haHMzisEWzzm"
      },
      "source": [
        "## 4.2 รับค่าตัวแปรจากคีย์บอร์ดแล้วแปลงเป็นตัวเลขจำนวนเต็มทันที (integer)\n",
        "*** ใช้คำสั่ง Try ... except.. เพื่อป้องกันข้อผิดพลาดในกรณีที่ผู้ใช้งานไม่ได้กรอกตัวเลข แต่ให้แสดงข้อความว่า \"กรุณากรอกเป็นตัวเลขเท่านั้น\" ***"
      ]
    },
    {
      "cell_type": "code",
      "metadata": {
        "trusted": true,
        "id": "82wXpdFKWzzm"
      },
      "source": [
        "try:\n",
        "    value=int(input(\"Type a number:\"))\n",
        "    print(\"value : \" + str(value))\n",
        "except ValueError:\n",
        "    print(\"กรุณากรอกเป็นตัวเลขเท่านั้น\")"
      ],
      "execution_count": null,
      "outputs": []
    },
    {
      "cell_type": "markdown",
      "metadata": {
        "id": "-kkGmD-PWzzn"
      },
      "source": [
        "# Exercise 1 \n",
        "\n",
        "รับค่าตัวแปรเลขจำนวนเต็ม a และ b แล้วนำมารวมกัน"
      ]
    },
    {
      "cell_type": "code",
      "metadata": {
        "trusted": true,
        "id": "Ql0hlP2UWzzn"
      },
      "source": [
        ""
      ],
      "execution_count": null,
      "outputs": []
    },
    {
      "cell_type": "markdown",
      "metadata": {
        "id": "5rzRlxZIWzzn"
      },
      "source": [
        "# Exercise 2\n",
        "เขียนโปรแกรมหาพื้นที่สี่เหลี่ยม โดยรับค่าจำนวนทศนิยมเป็นค่าความกว้าง (Width) และความสูง (Height) แล้วแสดงผลลัพธ์"
      ]
    },
    {
      "cell_type": "code",
      "metadata": {
        "trusted": true,
        "id": "fhURlKcmWzzn"
      },
      "source": [
        ""
      ],
      "execution_count": null,
      "outputs": []
    },
    {
      "cell_type": "markdown",
      "metadata": {
        "id": "4eGHOm1144ZR"
      },
      "source": [
        "## Exercise 3\n",
        "เขียนโปรแกรมอัตราสิ้นเปลืองเชื้อเพลิงของรถยนต์ ให้กรอกระยะทางเป็นกิโลเมตร(distance) และจำนวนลิตรที่ใช้ในการเดินทาง (litre) แล้ว\n",
        "แสดงอัตราสิ้นเปลืองหน่วยกิโลเมตรต่อลิตร (comsume)\n"
      ]
    },
    {
      "cell_type": "code",
      "metadata": {
        "trusted": true,
        "id": "67vTTPCHWzzo"
      },
      "source": [
        ""
      ],
      "execution_count": null,
      "outputs": []
    },
    {
      "cell_type": "markdown",
      "metadata": {
        "id": "D616TcmqWzzn"
      },
      "source": [
        "## Exercise 4\n",
        "เขียนโปรแกรมทอนเงินจากการขายสินค้า โดยกำหนดให้สินค้าชิ้นละ 250 บาท ให้กรอกจำนวนชิ้นสินค้า (items) และจำนวนเงินที่ลูกค้าจ่าย (Money) แล้ว\n",
        "แสดงจำนวนเงินที่ทอน (changes)\n"
      ]
    },
    {
      "cell_type": "code",
      "metadata": {
        "id": "27iem26E5lUk"
      },
      "source": [
        ""
      ],
      "execution_count": null,
      "outputs": []
    }
  ]
}