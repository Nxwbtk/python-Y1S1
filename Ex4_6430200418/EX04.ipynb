{
  "nbformat": 4,
  "nbformat_minor": 0,
  "metadata": {
    "colab": {
      "name": "WhileLoop_Exercise.ipynb",
      "provenance": []
    },
    "kernelspec": {
      "name": "python3",
      "display_name": "Python 3"
    },
    "language_info": {
      "name": "python"
    }
  },
  "cells": [
    {
      "cell_type": "markdown",
      "metadata": {
        "id": "p6J1qYO4c7Mp"
      },
      "source": [
        "##แบบฝึกหัด"
      ]
    },
    {
      "cell_type": "markdown",
      "metadata": {
        "id": "d6l6C4_xdBC3"
      },
      "source": [
        "1. ตารางสูตรผลแม่คูณจาก 1 ... 12 โดยรับค่าตัวเลขแม่คูณจากคีย์บอร์ด \n",
        "ตัวอย่าง\n",
        "\n",
        "Enter Number : 2\n",
        "\n",
        "2 x 1 = 2\n",
        "\n",
        "2 x 2 = 4\n",
        "\n",
        ".\n",
        "\n",
        "2 x 12 = 24\n"
      ]
    },
    {
      "cell_type": "code",
      "metadata": {
        "id": "eWYq4w1Hc6pN",
        "colab": {
          "base_uri": "https://localhost:8080/"
        },
        "outputId": "c78d35bc-4ba4-473b-8144-0d5da6a5f87f"
      },
      "source": [
        "try :\n",
        "    Multiple = int(input(\"เลข : \"))\n",
        "    i = 1\n",
        "    while i<13:\n",
        "        print(\"%d x %d = %d\"%(Multiple,i,Multiple*i))\n",
        "        i+=1\n",
        "    print(\"จบโปรแกรม\")\n",
        "except ValueError:\n",
        "    print(\"เลขเท่านั้น\")"
      ],
      "execution_count": 10,
      "outputs": [
        {
          "output_type": "stream",
          "text": [
            "เลข : 25\n",
            "25 x 1 = 25\n",
            "25 x 2 = 50\n",
            "25 x 3 = 75\n",
            "25 x 4 = 100\n",
            "25 x 5 = 125\n",
            "25 x 6 = 150\n",
            "25 x 7 = 175\n",
            "25 x 8 = 200\n",
            "25 x 9 = 225\n",
            "25 x 10 = 250\n",
            "25 x 11 = 275\n",
            "25 x 12 = 300\n",
            "จบโปรแกรม\n"
          ],
          "name": "stdout"
        }
      ]
    },
    {
      "cell_type": "markdown",
      "metadata": {
        "id": "g1a0x8UNdKkI"
      },
      "source": [
        "2. จงเขียนโปรแกรมรับค่าคะแนนนิสิตกี่คนก็ได้จนกระทั่งใส่คะแนนติดลบ และคำนวณผลรวมและค่าเฉลี่ยของคะแนนนิสิตทั้งหมด\n",
        "ตัวอย่าง\n",
        "\n",
        "Enter Score #1 : 70\n",
        "\n",
        "Enter Score #2 : 85\n",
        "\n",
        "Enter Score #3 : 63\n",
        "\n",
        ".\n",
        "\n",
        "Enter Score #16 : -1\n",
        "\n",
        "Sum of Score : 1125\n",
        "\n",
        "Average Score : 75\n"
      ]
    },
    {
      "cell_type": "code",
      "metadata": {
        "id": "wpEtvgJHdUli",
        "colab": {
          "base_uri": "https://localhost:8080/"
        },
        "outputId": "7b1692a0-bc6d-4772-e7a3-90ec6c341ccc"
      },
      "source": [
        "try:\n",
        "    Score = 1\n",
        "    Sum = 0\n",
        "    Count = 1\n",
        "    while Score>=0:\n",
        "        Score = int(input(\"Score # %d : \"%Count ))\n",
        "        if Score<0:\n",
        "          break\n",
        "        Sum+=Score\n",
        "        Count+=1\n",
        "    Avg = Sum/Count\n",
        "    print(\"Summary = %d\"%Sum)\n",
        "    print(\"Average = %.2f\"%Avg)\n",
        "except ValueError:\n",
        "    print(\"Enter number only!\")"
      ],
      "execution_count": 12,
      "outputs": [
        {
          "output_type": "stream",
          "text": [
            "Score # 1 : 0\n",
            "Score # 2 : 1\n",
            "Score # 3 : 5\n",
            "Score # 4 : -1\n",
            "Summary = 6\n",
            "Average = 1.50\n"
          ],
          "name": "stdout"
        }
      ]
    },
    {
      "cell_type": "markdown",
      "metadata": {
        "id": "3HEabOIXdXXc"
      },
      "source": [
        "3. จงเขียนโปรแกรมทายตัวเลขสุ่มที่สร้างจากเครื่องคอมพิวเตอร์ในช่วง 0 ถึง 9 โดยกำหนดให้ทายจนกระทั่งทายถูก แล้วแสดงจำนวนครั้งที่ทายไป\n",
        "ตัวอย่าง\n",
        "\n",
        "Enter Number  : 7\n",
        "\n",
        "You are wrong !!!\n",
        "\n",
        "Enter Number  : 8\n",
        "\n",
        "Your are wrong !!!\n",
        "\n",
        "Enter Score : 3\n",
        "\n",
        "Your are right !!!\n",
        "\n",
        "The number of trial is 5"
      ]
    },
    {
      "cell_type": "code",
      "metadata": {
        "id": "IwC5bTphdiP4",
        "colab": {
          "base_uri": "https://localhost:8080/"
        },
        "outputId": "85572500-c6d9-4b1c-be65-f7f841b85fce"
      },
      "source": [
        "from numpy import random\n",
        "rd = random.randint(10)\n",
        "try:\n",
        "  count = 0\n",
        "  while True:\n",
        "    guess = int(input(\"Guess the number : \"))\n",
        "    count+=1\n",
        "    if guess!=rd:\n",
        "      print(\"Wrong! Try again.\")\n",
        "    elif guess==rd:\n",
        "      print(\"Correct! The random number is \",rd)\n",
        "      break\n",
        "  print(\"Count of trial is \",count)\n",
        "except ValueError:\n",
        "  print(\"Enter number only!\")\n"
      ],
      "execution_count": 3,
      "outputs": [
        {
          "output_type": "stream",
          "text": [
            "Guess the number : 5\n",
            "Wrong! Try again.\n",
            "Guess the number : 4\n",
            "Wrong! Try again.\n",
            "Guess the number : 3\n",
            "Wrong! Try again.\n",
            "Guess the number : 2\n",
            "Correct! The random number is  2\n",
            "Count of trial is  4\n"
          ],
          "name": "stdout"
        }
      ]
    },
    {
      "cell_type": "code",
      "metadata": {
        "id": "ZvmFc5pcvqst"
      },
      "source": [
        ""
      ],
      "execution_count": null,
      "outputs": []
    }
  ]
}